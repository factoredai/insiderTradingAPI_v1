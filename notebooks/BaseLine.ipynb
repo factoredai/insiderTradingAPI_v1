{
 "cells": [
  {
   "cell_type": "code",
   "execution_count": 1,
   "metadata": {},
   "outputs": [],
   "source": [
    "import pandas as pd\n",
    "import tensorflow as tf\n",
    "import numpy\n",
    "import pickle as pkl\n",
    "import os\n",
    "os.chdir(os.path.join(os.getcwd(), \"..\"))\n",
    "import finviz as fz\n",
    "import yfinance as yf\n",
    "import calendar\n",
    "import datetime\n",
    "import numpy as np\n",
    "import matplotlib.pyplot as plt\n",
    "from sklearn.metrics import precision_recall_curve, auc, average_precision_score, log_loss\n",
    "from sklearn.metrics import PrecisionRecallDisplay\n",
    "\n",
    "from src.utils import data_layer, get_dataset, hist_multi_plot, \n",
    "\n",
    "%load_ext autoreload\n",
    "%autoreload 2"
   ]
  },
  {
   "cell_type": "code",
   "execution_count": 2,
   "metadata": {},
   "outputs": [],
   "source": [
    "perc_space = 0.8\n",
    "perc_time = 0.8\n",
    "\n",
    "WINDOW_SIZE = 21 # Include window + target\n",
    "BATCH_SIZE = 8\n",
    "\n",
    "data_path = os.path.join(os.getcwd(), \"data\")\n",
    "sp_100_file = os.path.join(data_path, \"sp-100-index-07-02-2020.csv\")"
   ]
  },
  {
   "cell_type": "markdown",
   "metadata": {},
   "source": [
    "# Load and Data formatting"
   ]
  },
  {
   "cell_type": "code",
   "execution_count": 88,
   "metadata": {},
   "outputs": [],
   "source": [
    "def infer_year(current_month, current_year):\n",
    "    dict_cont = {}\n",
    "    dict_cont[\"current_year\"] = current_year\n",
    "    dict_cont[\"previous_month\"] = current_month\n",
    "    def _infer_year(x):\n",
    "        delta_months = dict_cont[\"previous_month\"] - x\n",
    "        if x>=1 and delta_months>=0:\n",
    "            dict_cont[\"previous_month\"] = x\n",
    "        else:\n",
    "            dict_cont[\"previous_month\"] = x\n",
    "            dict_cont[\"current_year\"]-=1\n",
    "        return dict_cont[\"current_year\"]\n",
    "    return _infer_year\n",
    "\n",
    "def data_layer(sp_100_file, data_path, perc_space, perc_time):\n",
    "    sp_100_df = pd.read_csv(sp_100_file)\n",
    "    simbols = sp_100_df.Symbol.values[:-1]\n",
    "    map_month2month_number = dict((v,k) for k,v in enumerate(calendar.month_abbr))\n",
    "    stock = {}\n",
    "    cont = 0\n",
    "    avg_amount = pd.DataFrame()\n",
    "    ordered_columns = ['Open', 'High', 'Low', 'Close', 'Volume', 'Perc_sp100', 'volatility', \n",
    "                       'change_price_beg_end', 'change_price', 'Volume_rel_price', 'Vol_rel_volatility',\n",
    "                       'Dividends', 'Stock Splits', 'Buy', 'Sale', 'Option Exercise']\n",
    "    for simbol in simbols:\n",
    "        try:\n",
    "            insider_info = fz.get_insider(simbol)\n",
    "            insider_data = pd.DataFrame.from_dict(insider_info)\n",
    "            insider_data[[\"month_name\", \"day\"]]= insider_data.Date.str.split(\" \", expand=True)\n",
    "            insider_data[\"month\"] = insider_data[\"month_name\"].map(map_month2month_number)\n",
    "            insider_data[\"year\"] = insider_data[\"month\"].apply(infer_year(datetime.datetime.now().month,\n",
    "                                                                        datetime.datetime.now().year))\n",
    "            insider_data[\"date\"] = pd.to_datetime(insider_data[[\"year\", \"month\", \"day\"]], format=\"%y%m%d\") \n",
    "            cont = cont + 1\n",
    "        except Exception as inst:\n",
    "            print(simbol, end=\" \")\n",
    "            print(type(inst), end=\" \")# the exception instance\n",
    "            print(inst) \n",
    "            continue\n",
    "        curr_ticker = yf.Ticker(simbol)\n",
    "        curr_hist = curr_ticker.history(period=\"1y\")\n",
    "        curr_table = pd.pivot_table(insider_data,\n",
    "                                    index=['date'],\n",
    "                                    columns=['Transaction'], aggfunc={\"Transaction\": len})\n",
    "        curr_hist[\"volatility\"] = (curr_hist.High - curr_hist.Low)/(curr_hist.Open + np.finfo(float).eps)\n",
    "        curr_hist[\"change_price_beg_end\"] = curr_hist.Open - curr_hist.Close\n",
    "        curr_hist[\"change_price\"] = curr_hist.High - curr_hist.Low\n",
    "        curr_hist[\"Volume_rel_price\"] = curr_hist.Volume*curr_hist[\"change_price\"]\n",
    "        curr_hist[\"Vol_rel_volatility\"] = curr_hist.Volume*curr_hist[\"volatility\"]\n",
    "        curr_table = ~curr_table.isnull()\n",
    "        curr_table.columns = [col[1] for col in curr_table.columns]\n",
    "        curr_hist = curr_hist.merge(curr_table, how=\"left\", left_index=True, right_index=True)\n",
    "        curr_hist = curr_hist.dropna(subset=['Open', 'High', 'Low', 'Close', 'Volume'])\n",
    "        curr_hist = curr_hist.fillna(False)\n",
    "        if \"Buy\" not in curr_hist.columns:\n",
    "            curr_hist[\"Buy\"] = False\n",
    "        if \"Sale\" not in curr_hist.columns:\n",
    "            curr_hist[\"Sale\"] = False\n",
    "        if \"Option Exercise\" not in curr_hist.columns:\n",
    "            curr_hist[\"Option Exercise\"] = False\n",
    "        stock[simbol] = curr_hist\n",
    "        stock[simbol][\"Amount_negotiated\"] = stock[simbol][\"Volume\"]*stock[simbol][\"Close\"]\n",
    "        avg_amount[simbol] = stock[simbol][\"Amount_negotiated\"]\n",
    "        \n",
    "    avg_amount_mean = avg_amount.mean(axis=1)\n",
    "    for key, val in stock.items():\n",
    "        stock[key][\"Perc_sp100\"] = stock[key][\"Volume\"]*stock[key][\"Close\"]/avg_amount_mean\n",
    "        stock[key] = stock[key][ordered_columns]\n",
    "    return stock"
   ]
  },
  {
   "cell_type": "code",
   "execution_count": 89,
   "metadata": {},
   "outputs": [
    {
     "name": "stdout",
     "output_type": "stream",
     "text": [
      "BKNG <class 'IndexError'> list index out of range\n",
      "BRK.B <class 'requests.exceptions.HTTPError'> 404 Client Error: Not Found for url: https://finviz.com/quote.ashx?t=BRK.B\n",
      "C <class 'IndexError'> list index out of range\n",
      "DD <class 'IndexError'> list index out of range\n",
      "EXC <class 'IndexError'> list index out of range\n",
      "GOOGL <class 'IndexError'> list index out of range\n",
      "GS <class 'IndexError'> list index out of range\n",
      "MO <class 'IndexError'> list index out of range\n",
      "RTX <class 'IndexError'> list index out of range\n"
     ]
    }
   ],
   "source": [
    "stock = data_layer(sp_100_file, data_path, perc_space, perc_time)"
   ]
  },
  {
   "cell_type": "code",
   "execution_count": 90,
   "metadata": {},
   "outputs": [],
   "source": [
    "n_train_space = int(len(stock.keys())*perc_space)\n",
    "n_train_out_space = len(stock.keys())-n_train_space"
   ]
  },
  {
   "cell_type": "code",
   "execution_count": 91,
   "metadata": {},
   "outputs": [],
   "source": [
    "train_space = np.random.choice(list(stock.keys()), size=n_train_space, replace=False).tolist()\n",
    "test_space = list(set(stock.keys()) - set(train_space))\n",
    "samples = stock[\"AAPL\"].shape[0]\n",
    "train_samples = int((samples-WINDOW_SIZE)*perc_time)"
   ]
  },
  {
   "cell_type": "markdown",
   "metadata": {},
   "source": [
    "# Data loader object"
   ]
  },
  {
   "cell_type": "code",
   "execution_count": 92,
   "metadata": {},
   "outputs": [
    {
     "name": "stdout",
     "output_type": "stream",
     "text": [
      "Companies:  ['GD', 'JNJ', 'QCOM', 'NFLX', 'COP', 'AIG', 'MMM', 'NKE', 'SO', 'DHR', 'GE', 'KMI', 'OXY', 'BMY', 'USB', 'COF', 'KO', 'MS', 'TGT', 'GOOG', 'PYPL', 'BA', 'AMT', 'UPS', 'BK', 'SPG', 'ORCL', 'NEE', 'F', 'FB', 'DUK', 'GM', 'ABT', 'WMT', 'DIS', 'LOW', 'TXN', 'MRK', 'UNP', 'IBM', 'CVS', 'PEP', 'KHC', 'AMGN', 'VZ', 'MA', 'BIIB', 'LMT', 'HON', 'T', 'ACN', 'LLY', 'CVX', 'ADBE', 'EMR', 'AMZN', 'GILD', 'PFE', 'PM', 'CRM', 'V', 'CSCO', 'CL', 'SBUX', 'MCD', 'MDT', 'WBA', 'CAT', 'INTC', 'AXP', 'BAC', 'CMCSA', 'ABBV']\n"
     ]
    }
   ],
   "source": [
    "train_ds, val_ds = get_dataset(stock, train_space, train_samples=train_samples, window_size=WINDOW_SIZE)"
   ]
  },
  {
   "cell_type": "code",
   "execution_count": 93,
   "metadata": {},
   "outputs": [
    {
     "name": "stdout",
     "output_type": "stream",
     "text": [
      "Companies:  ['MSFT', 'WFC', 'MDLZ', 'COST', 'AAPL', 'NVDA', 'CHTR', 'BLK', 'SLB', 'DOW', 'PG', 'UNH', 'MET', 'FDX', 'ALL', 'TMO', 'HD', 'XOM', 'JPM']\n"
     ]
    }
   ],
   "source": [
    "test_ds = get_dataset(stock, test_space, train_samples=None, window_size=WINDOW_SIZE)"
   ]
  },
  {
   "cell_type": "code",
   "execution_count": 94,
   "metadata": {},
   "outputs": [],
   "source": [
    "train_ds = train_ds.shuffle(buffer_size=8000)\n",
    "train_ds = train_ds.batch(BATCH_SIZE)\n",
    "train_ds = train_ds.prefetch(16)\n",
    "val_ds = val_ds.batch(BATCH_SIZE)\n",
    "test_ds = test_ds.batch(BATCH_SIZE)"
   ]
  },
  {
   "cell_type": "code",
   "execution_count": 95,
   "metadata": {},
   "outputs": [
    {
     "data": {
      "text/plain": [
       "((<tf.Tensor: shape=(8, 20, 16), dtype=float64, numpy=\n",
       "  array([[[ 54.68,  55.47,  53.99, ...,   0.  ,   0.  ,   0.  ],\n",
       "          [ 55.12,  55.92,  54.72, ...,   0.  ,   1.  ,   1.  ],\n",
       "          [ 55.82,  56.18,  55.58, ...,   0.  ,   0.  ,   0.  ],\n",
       "          ...,\n",
       "          [ 56.41,  56.68,  56.07, ...,   0.  ,   0.  ,   0.  ],\n",
       "          [ 56.52,  57.99,  56.48, ...,   0.  ,   0.  ,   1.  ],\n",
       "          [ 58.18,  58.82,  57.91, ...,   0.  ,   1.  ,   1.  ]],\n",
       "  \n",
       "         [[116.51, 117.57, 115.97, ...,   0.  ,   0.  ,   0.  ],\n",
       "          [116.49, 117.54, 115.62, ...,   0.  ,   0.  ,   0.  ],\n",
       "          [115.92, 116.65, 114.18, ...,   0.  ,   0.  ,   0.  ],\n",
       "          ...,\n",
       "          [112.88, 114.89, 112.62, ...,   0.  ,   0.  ,   0.  ],\n",
       "          [112.94, 114.29, 112.94, ...,   0.  ,   0.  ,   0.  ],\n",
       "          [114.55, 115.63, 114.41, ...,   0.  ,   0.  ,   0.  ]],\n",
       "  \n",
       "         [[ 59.35,  59.4 ,  58.8 , ...,   0.  ,   0.  ,   0.  ],\n",
       "          [ 59.21,  59.58,  59.04, ...,   0.  ,   0.  ,   0.  ],\n",
       "          [ 59.66,  60.47,  59.64, ...,   0.  ,   1.  ,   1.  ],\n",
       "          ...,\n",
       "          [ 59.13,  59.3 ,  58.71, ...,   0.  ,   0.  ,   0.  ],\n",
       "          [ 58.78,  59.35,  58.62, ...,   0.  ,   0.  ,   0.  ],\n",
       "          [ 59.18,  59.41,  58.84, ...,   0.  ,   0.  ,   0.  ]],\n",
       "  \n",
       "         ...,\n",
       "  \n",
       "         [[ 85.63,  85.78,  82.85, ...,   0.  ,   0.  ,   0.  ],\n",
       "          [ 86.66,  89.19,  86.17, ...,   0.  ,   0.  ,   0.  ],\n",
       "          [ 89.66,  91.54,  88.17, ...,   0.  ,   0.  ,   0.  ],\n",
       "          ...,\n",
       "          [ 92.79,  93.07,  90.68, ...,   0.  ,   0.  ,   0.  ],\n",
       "          [ 91.78,  94.17,  91.45, ...,   0.  ,   0.  ,   0.  ],\n",
       "          [ 94.47,  94.57,  92.54, ...,   0.  ,   0.  ,   0.  ]],\n",
       "  \n",
       "         [[113.81, 115.68, 112.15, ...,   0.  ,   0.  ,   0.  ],\n",
       "          [111.66, 115.02, 111.31, ...,   0.  ,   0.  ,   0.  ],\n",
       "          [112.68, 118.59, 111.85, ...,   0.  ,   0.  ,   0.  ],\n",
       "          ...,\n",
       "          [128.78, 129.32, 128.  , ...,   0.  ,   0.  ,   0.  ],\n",
       "          [129.43, 129.74, 127.61, ...,   0.  ,   0.  ,   0.  ],\n",
       "          [127.72, 129.67, 127.14, ...,   0.  ,   0.  ,   0.  ]],\n",
       "  \n",
       "         [[145.61, 146.46, 143.83, ...,   0.  ,   0.  ,   0.  ],\n",
       "          [143.69, 145.62, 141.62, ...,   0.  ,   0.  ,   0.  ],\n",
       "          [144.39, 145.93, 143.14, ...,   0.  ,   0.  ,   0.  ],\n",
       "          ...,\n",
       "          [139.99, 141.64, 139.53, ...,   0.  ,   0.  ,   0.  ],\n",
       "          [141.78, 142.48, 141.  , ...,   0.  ,   0.  ,   0.  ],\n",
       "          [141.32, 142.41, 141.03, ...,   0.  ,   0.  ,   0.  ]]])>,\n",
       "  <tf.Tensor: shape=(8, 13), dtype=float64, numpy=\n",
       "  array([[ 5.79100000e+01,  5.80900000e+01,  5.73100000e+01,\n",
       "           5.77000000e+01,  6.24230000e+06,  4.61185476e-01,\n",
       "           1.34691763e-02,  2.10000000e-01,  7.80000000e-01,\n",
       "           4.86899400e+06,  8.40786393e+04,  0.00000000e+00,\n",
       "           0.00000000e+00],\n",
       "         [ 1.15160000e+02,  1.15360000e+02,  1.13790000e+02,\n",
       "           1.14100000e+02,  2.72060000e+06,  3.45630933e-01,\n",
       "           1.36332060e-02,  1.06000000e+00,  1.57000000e+00,\n",
       "           4.27134200e+06,  3.70905002e+04,  0.00000000e+00,\n",
       "           0.00000000e+00],\n",
       "         [ 5.90300000e+01,  5.94300000e+01,  5.89200000e+01,\n",
       "           5.92900000e+01,  4.17870000e+06,  2.75857572e-01,\n",
       "           8.63967474e-03, -2.60000000e-01,  5.10000000e-01,\n",
       "           2.13113700e+06,  3.61026088e+04,  0.00000000e+00,\n",
       "           0.00000000e+00],\n",
       "         [ 9.42000000e+01,  9.72600000e+01,  9.42000000e+01,\n",
       "           9.69700000e+01,  1.39365000e+07,  1.14533399e+00,\n",
       "           3.24840764e-02, -2.77000000e+00,  3.06000000e+00,\n",
       "           4.26456900e+07,  4.52714331e+05,  0.00000000e+00,\n",
       "           0.00000000e+00],\n",
       "         [ 1.16370000e+02,  1.17050000e+02,  1.15750000e+02,\n",
       "           1.16620000e+02,  6.44550000e+06,  8.42455636e-01,\n",
       "           1.11712641e-02, -2.50000000e-01,  1.30000000e+00,\n",
       "           8.37915000e+06,  7.20043826e+04,  0.00000000e+00,\n",
       "           0.00000000e+00],\n",
       "         [ 9.28600000e+01,  9.61200000e+01,  9.27800000e+01,\n",
       "           9.57000000e+01,  7.23680000e+06,  6.92303696e-01,\n",
       "           3.59681241e-02, -2.84000000e+00,  3.34000000e+00,\n",
       "           2.41709120e+07,  2.60294120e+05,  0.00000000e+00,\n",
       "           0.00000000e+00],\n",
       "         [ 1.25020000e+02,  1.25210000e+02,  1.22010000e+02,\n",
       "           1.23060000e+02,  1.48707000e+07,  1.26456580e+00,\n",
       "           2.55959047e-02,  1.96000000e+00,  3.20000000e+00,\n",
       "           4.75862400e+07,  3.80629019e+05,  0.00000000e+00,\n",
       "           0.00000000e+00],\n",
       "         [ 1.43040000e+02,  1.43520000e+02,  1.42410000e+02,\n",
       "           1.42990000e+02,  1.04810000e+06,  2.51923311e-01,\n",
       "           7.76006711e-03,  5.00000000e-02,  1.11000000e+00,\n",
       "           1.16339100e+06,  8.13332634e+03,  0.00000000e+00,\n",
       "           0.00000000e+00]])>),\n",
       " <tf.Tensor: shape=(8, 1, 3), dtype=float64, numpy=\n",
       " array([[[0., 0., 0.]],\n",
       " \n",
       "        [[0., 0., 0.]],\n",
       " \n",
       "        [[0., 0., 0.]],\n",
       " \n",
       "        [[0., 0., 0.]],\n",
       " \n",
       "        [[0., 0., 0.]],\n",
       " \n",
       "        [[0., 0., 0.]],\n",
       " \n",
       "        [[0., 0., 0.]],\n",
       " \n",
       "        [[0., 0., 0.]]])>)"
      ]
     },
     "execution_count": 95,
     "metadata": {},
     "output_type": "execute_result"
    }
   ],
   "source": [
    "a = iter(train_ds)\n",
    "next(a)"
   ]
  },
  {
   "cell_type": "markdown",
   "metadata": {},
   "source": [
    "# Model"
   ]
  },
  {
   "cell_type": "code",
   "execution_count": 96,
   "metadata": {},
   "outputs": [],
   "source": [
    "def build_model():\n",
    "    inputs = tf.keras.Input(shape=(20,16))\n",
    "    x = tf.keras.layers.BatchNormalization(axis=2)(inputs)\n",
    "    x_0 = tf.keras.layers.GRU(64, return_sequences=False)(x)\n",
    "    x_1 = tf.keras.layers.GRU(64, return_sequences=False)(x)\n",
    "    x = tf.keras.layers.Concatenate()([x_0, x_1])\n",
    "    x = tf.keras.layers.BatchNormalization()(x)\n",
    "    sigmoids = tf.keras.layers.Dense(3, activation=\"sigmoid\")(x)\n",
    "    outputs = tf.keras.backend.expand_dims(sigmoids, axis=1)\n",
    "    model = tf.keras.Model(inputs=inputs, outputs=outputs)\n",
    "    return model"
   ]
  },
  {
   "cell_type": "code",
   "execution_count": 97,
   "metadata": {},
   "outputs": [
    {
     "name": "stdout",
     "output_type": "stream",
     "text": [
      "Model: \"model\"\n",
      "__________________________________________________________________________________________________\n",
      "Layer (type)                    Output Shape         Param #     Connected to                     \n",
      "==================================================================================================\n",
      "input_1 (InputLayer)            [(None, 20, 16)]     0                                            \n",
      "__________________________________________________________________________________________________\n",
      "batch_normalization (BatchNorma (None, 20, 16)       64          input_1[0][0]                    \n",
      "__________________________________________________________________________________________________\n",
      "gru (GRU)                       (None, 64)           15744       batch_normalization[0][0]        \n",
      "__________________________________________________________________________________________________\n",
      "gru_1 (GRU)                     (None, 64)           15744       batch_normalization[0][0]        \n",
      "__________________________________________________________________________________________________\n",
      "concatenate (Concatenate)       (None, 128)          0           gru[0][0]                        \n",
      "                                                                 gru_1[0][0]                      \n",
      "__________________________________________________________________________________________________\n",
      "batch_normalization_1 (BatchNor (None, 128)          512         concatenate[0][0]                \n",
      "__________________________________________________________________________________________________\n",
      "dense (Dense)                   (None, 3)            387         batch_normalization_1[0][0]      \n",
      "__________________________________________________________________________________________________\n",
      "tf_op_layer_ExpandDims (TensorF [(None, 1, 3)]       0           dense[0][0]                      \n",
      "==================================================================================================\n",
      "Total params: 32,451\n",
      "Trainable params: 32,163\n",
      "Non-trainable params: 288\n",
      "__________________________________________________________________________________________________\n"
     ]
    }
   ],
   "source": [
    "model = build_model()\n",
    "model.summary()"
   ]
  },
  {
   "cell_type": "code",
   "execution_count": 98,
   "metadata": {},
   "outputs": [],
   "source": [
    "model.compile(loss=\"binary_crossentropy\",\n",
    "    optimizer=\"adam\",\n",
    "    metrics=[\"accuracy\", \"AUC\", tf.keras.metrics.AUC(curve=\"PR\", name=\"PR_AUC\")])\n",
    "es_callback = tf.keras.callbacks.EarlyStopping(monitor='val_loss',#val_loss\n",
    "                                               patience=2,\n",
    "                                               mode='min',\n",
    "                                               restore_best_weights=True)"
   ]
  },
  {
   "cell_type": "code",
   "execution_count": 99,
   "metadata": {},
   "outputs": [
    {
     "name": "stdout",
     "output_type": "stream",
     "text": [
      "Epoch 1/20\n",
      "WARNING:tensorflow:From /Users/camilovelasquez/anaconda3/envs/insider/lib/python3.7/site-packages/tensorflow/python/ops/resource_variable_ops.py:1817: calling BaseResourceVariable.__init__ (from tensorflow.python.ops.resource_variable_ops) with constraint is deprecated and will be removed in a future version.\n",
      "Instructions for updating:\n",
      "If using Keras pass *_constraint arguments to layers.\n",
      "1689/1689 [==============================] - 26s 16ms/step - loss: 0.1594 - accuracy: 0.0980 - auc: 0.6716 - PR_AUC: 0.0626 - val_loss: 0.0927 - val_accuracy: 0.0365 - val_auc: 0.8252 - val_PR_AUC: 0.3502\n",
      "Epoch 2/20\n",
      "1689/1689 [==============================] - 37s 22ms/step - loss: 0.1197 - accuracy: 0.0692 - auc: 0.7413 - PR_AUC: 0.1473 - val_loss: 0.1008 - val_accuracy: 0.0451 - val_auc: 0.7623 - val_PR_AUC: 0.3402\n",
      "Epoch 3/20\n",
      "1689/1689 [==============================] - 31s 18ms/step - loss: 0.1182 - accuracy: 0.0772 - auc: 0.7625 - PR_AUC: 0.1484 - val_loss: 0.0955 - val_accuracy: 0.0622 - val_auc: 0.8397 - val_PR_AUC: 0.2597\n"
     ]
    }
   ],
   "source": [
    "history = model.fit(train_ds, \n",
    "                    validation_data=val_ds,\n",
    "                    epochs=20, \n",
    "                    callbacks = [es_callback])"
   ]
  },
  {
   "cell_type": "code",
   "execution_count": 100,
   "metadata": {},
   "outputs": [
    {
     "name": "stdout",
     "output_type": "stream",
     "text": [
      "554/554 [==============================] - 3s 5ms/step - loss: 0.1132 - accuracy: 0.0535 - auc: 0.7612 - PR_AUC: 0.1256\n"
     ]
    },
    {
     "data": {
      "text/plain": [
       "[0.11315745860338211,\n",
       " 0.05353512614965439,\n",
       " 0.7612084150314331,\n",
       " 0.12563152611255646]"
      ]
     },
     "execution_count": 100,
     "metadata": {},
     "output_type": "execute_result"
    }
   ],
   "source": [
    "model.evaluate(test_ds)"
   ]
  },
  {
   "cell_type": "markdown",
   "metadata": {},
   "source": [
    "# Comparing predictions and looking if it is learning anything\n",
    "dataframe start from the 20, example df[20:] are all the samples in test, and each company has ~232 records, so to iterate would be accooording to 232 and addding 20 to the origiinal df"
   ]
  },
  {
   "cell_type": "code",
   "execution_count": 101,
   "metadata": {},
   "outputs": [],
   "source": [
    "y_test = []\n",
    "for sample in test_ds:\n",
    "    y_test.append(sample[1].numpy())\n",
    "y_test = np.squeeze(np.concatenate(y_test))"
   ]
  },
  {
   "cell_type": "code",
   "execution_count": 102,
   "metadata": {},
   "outputs": [
    {
     "name": "stdout",
     "output_type": "stream",
     "text": [
      "Company:  MSFT\n",
      "Company:  WFC\n",
      "Company:  MDLZ\n",
      "Company:  COST\n",
      "Company:  AAPL\n",
      "Company:  NVDA\n",
      "Company:  CHTR\n",
      "Company:  BLK\n",
      "Company:  SLB\n",
      "Company:  DOW\n",
      "Company:  PG\n",
      "Company:  UNH\n",
      "Company:  MET\n",
      "Company:  FDX\n",
      "Company:  ALL\n",
      "Company:  TMO\n",
      "Company:  HD\n",
      "Company:  XOM\n",
      "Company:  JPM\n"
     ]
    }
   ],
   "source": [
    "out = model.predict(test_ds)\n",
    "out = np.squeeze(out)\n",
    "aux_stock = {}\n",
    "cont = 0\n",
    "for idx, company in enumerate(test_space):\n",
    "    print(\"Company: \", company)\n",
    "    curr_hist = stock[company]\n",
    "    curr_index = curr_hist.index[WINDOW_SIZE-1:]\n",
    "    curr_size = len(curr_index)\n",
    "    pred_df = pd.DataFrame(out[cont:cont+curr_size],\n",
    "                           index=curr_hist.index[WINDOW_SIZE-1:],\n",
    "                           columns=[\"Pred_Buy\", \"Pred_Option\", \"Pred_Sale\"])\n",
    "    aux_stock[company] = stock[company].merge(pred_df, how=\"left\", \n",
    "                                              left_index=True, right_index=True)\n",
    "    cont = cont + curr_size"
   ]
  },
  {
   "cell_type": "code",
   "execution_count": 103,
   "metadata": {},
   "outputs": [],
   "source": [
    "df = pd.DataFrame(np.concatenate([out, y_test], axis=1), \n",
    "             columns=[\"pred_Buy\", \"pred_Option\", \"pred_Sale\", \"Buy\", \"Option\", \"Sale\"])"
   ]
  },
  {
   "cell_type": "code",
   "execution_count": 104,
   "metadata": {},
   "outputs": [],
   "source": [
    "means = df.mean()"
   ]
  },
  {
   "cell_type": "markdown",
   "metadata": {},
   "source": [
    "# Metrics"
   ]
  },
  {
   "cell_type": "code",
   "execution_count": 105,
   "metadata": {},
   "outputs": [
    {
     "name": "stdout",
     "output_type": "stream",
     "text": [
      "Average Precision:  0.010835968561982715\n",
      "Strawman Crossentropy 0.041720669601262764\n",
      "Binary Crossentropy 0.04407000022082522\n"
     ]
    },
    {
     "data": {
      "image/png": "[encoded data removed]",
      "text/plain": [
       "<Figure size 432x288 with 1 Axes>"
      ]
     },
     "metadata": {
      "needs_background": "light"
     },
     "output_type": "display_data"
    },
    {
     "data": {
      "image/png": "[encoded data removed]",
      "text/plain": [
       "<Figure size 432x288 with 1 Axes>"
      ]
     },
     "metadata": {
      "needs_background": "light"
     },
     "output_type": "display_data"
    }
   ],
   "source": [
    "pred_col = \"pred_Buy\"\n",
    "col = \"Buy\"\n",
    "hist_multi_plot(df, pred_col, col, bins=np.arange(0,1, 0.01))\n",
    "precision, recall, _ = precision_recall_curve(df[col], df[pred_col])\n",
    "pr_display = PrecisionRecallDisplay(precision=precision, recall=recall).plot()\n",
    "average_precision = average_precision_score(df[col], df[pred_col])\n",
    "print(\"Average Precision: \", average_precision)\n",
    "strawman_ce = log_loss(df[col], np.ones(df[col].shape)*means[col])\n",
    "print(\"Strawman Crossentropy\", strawman_ce)\n",
    "bce = log_loss(df[col], df[pred_col])\n",
    "print(\"Binary Crossentropy\", bce)"
   ]
  },
  {
   "cell_type": "code",
   "execution_count": 106,
   "metadata": {},
   "outputs": [
    {
     "name": "stdout",
     "output_type": "stream",
     "text": [
      "Average Precision:  0.06152576250758002\n",
      "Strawman Crossentropy 0.10366509320611689\n",
      "Binary Crossentropy 0.1014334942695975\n"
     ]
    },
    {
     "data": {
      "image/png": "[encoded data removed]",
      "text/plain": [
       "<Figure size 432x288 with 1 Axes>"
      ]
     },
     "metadata": {
      "needs_background": "light"
     },
     "output_type": "display_data"
    },
    {
     "data": {
      "image/png": "[encoded data removed]",
      "text/plain": [
       "<Figure size 432x288 with 1 Axes>"
      ]
     },
     "metadata": {
      "needs_background": "light"
     },
     "output_type": "display_data"
    }
   ],
   "source": [
    "pred_col = \"pred_Option\"\n",
    "col = \"Option\"\n",
    "hist_multi_plot(df, pred_col, col, bins=np.arange(0,1, 0.01))\n",
    "precision, recall, _ = precision_recall_curve(df[col], df[pred_col])\n",
    "pr_display = PrecisionRecallDisplay(precision=precision, recall=recall).plot()\n",
    "average_precision = average_precision_score(df[col], df[pred_col])\n",
    "print(\"Average Precision: \", average_precision)\n",
    "strawman_ce = log_loss(df[col], np.ones(df[col].shape)*means[col])\n",
    "print(\"Strawman Crossentropy\", strawman_ce)\n",
    "bce = log_loss(df[col], df[pred_col])\n",
    "print(\"Binary Crossentropy\", bce)"
   ]
  },
  {
   "cell_type": "code",
   "execution_count": 107,
   "metadata": {},
   "outputs": [
    {
     "name": "stdout",
     "output_type": "stream",
     "text": [
      "Average Precision:  0.1704913368401367\n",
      "Strawman Crossentropy 0.2087954929155983\n",
      "Binary Crossentropy 0.19396977538777002\n"
     ]
    },
    {
     "data": {
      "image/png": "[encoded data removed]",
      "text/plain": [
       "<Figure size 432x288 with 1 Axes>"
      ]
     },
     "metadata": {
      "needs_background": "light"
     },
     "output_type": "display_data"
    },
    {
     "data": {
      "image/png": "[encoded data removed]",
      "text/plain": [
       "<Figure size 432x288 with 1 Axes>"
      ]
     },
     "metadata": {
      "needs_background": "light"
     },
     "output_type": "display_data"
    }
   ],
   "source": [
    "pred_col = \"pred_Sale\"\n",
    "col = \"Sale\"\n",
    "hist_multi_plot(df, pred_col, col, bins=np.arange(0,1, 0.01))\n",
    "precision, recall, _ = precision_recall_curve(df[col], df[pred_col])\n",
    "pr_display = PrecisionRecallDisplay(precision=precision, recall=recall).plot()\n",
    "average_precision = average_precision_score(df[col], df[pred_col])\n",
    "print(\"Average Precision: \", average_precision)\n",
    "strawman_ce = log_loss(df[col], np.ones(df[col].shape)*means[col])\n",
    "print(\"Strawman Crossentropy\", strawman_ce)\n",
    "bce = log_loss(df[col], df[pred_col])\n",
    "print(\"Binary Crossentropy\", bce)"
   ]
  },
  {
   "cell_type": "code",
   "execution_count": null,
   "metadata": {},
   "outputs": [],
   "source": []
  }
 ],
 "metadata": {
  "kernelspec": {
   "display_name": "Python [conda env:insider]",
   "language": "python",
   "name": "conda-env-insider-py"
  },
  "language_info": {
   "codemirror_mode": {
    "name": "ipython",
    "version": 3
   },
   "file_extension": ".py",
   "mimetype": "text/x-python",
   "name": "python",
   "nbconvert_exporter": "python",
   "pygments_lexer": "ipython3",
   "version": "3.7.7"
  }
 },
 "nbformat": 4,
 "nbformat_minor": 2
}
