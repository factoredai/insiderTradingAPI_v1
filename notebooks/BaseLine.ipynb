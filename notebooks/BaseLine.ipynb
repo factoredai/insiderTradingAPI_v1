{
 "cells": [
  {
   "cell_type": "code",
   "execution_count": 1,
   "metadata": {},
   "outputs": [],
   "source": [
    "import pandas as pd\n",
    "import tensorflow as tf\n",
    "import numpy\n",
    "import pickle as pkl\n",
    "import os\n",
    "os.chdir(os.path.join(os.getcwd(), \"..\"))\n",
    "import finviz as fz\n",
    "import yfinance as yf\n",
    "import calendar\n",
    "import datetime\n",
    "import numpy as np\n",
    "import matplotlib.pyplot as plt\n",
    "from sklearn.metrics import precision_recall_curve, auc, average_precision_score, log_loss\n",
    "from sklearn.metrics import PrecisionRecallDisplay\n",
    "\n",
    "from src.utils import data_layer, get_dataset, hist_multi_plot\n",
    "\n",
    "%load_ext autoreload\n",
    "%autoreload 2"
   ]
  },
  {
   "cell_type": "code",
   "execution_count": 2,
   "metadata": {},
   "outputs": [],
   "source": [
    "perc_space = 0.8\n",
    "perc_time = 0.8\n",
    "\n",
    "WINDOW_SIZE = 21 # Include window + target\n",
    "BATCH_SIZE = 8\n",
    "\n",
    "data_path = os.path.join(os.getcwd(), \"data\")\n",
    "sp_100_file = os.path.join(data_path, \"sp-100-index-07-02-2020.csv\")"
   ]
  },
  {
   "cell_type": "markdown",
   "metadata": {},
   "source": [
    "# Load and Data formatting"
   ]
  },
  {
   "cell_type": "code",
   "execution_count": 3,
   "metadata": {},
   "outputs": [
    {
     "name": "stdout",
     "output_type": "stream",
     "text": [
      "BKNG <class 'IndexError'> list index out of range\n",
      "BRK.B <class 'requests.exceptions.HTTPError'> 404 Client Error: Not Found for url: https://finviz.com/quote.ashx?t=BRK.B\n",
      "C <class 'IndexError'> list index out of range\n",
      "DD <class 'IndexError'> list index out of range\n",
      "EXC <class 'IndexError'> list index out of range\n",
      "GOOGL <class 'IndexError'> list index out of range\n",
      "GS <class 'IndexError'> list index out of range\n",
      "MO <class 'IndexError'> list index out of range\n",
      "RTX <class 'IndexError'> list index out of range\n"
     ]
    }
   ],
   "source": [
    "stock = data_layer(sp_100_file, data_path, perc_space, perc_time)"
   ]
  },
  {
   "cell_type": "code",
   "execution_count": 4,
   "metadata": {},
   "outputs": [],
   "source": [
    "n_train_space = int(len(stock.keys())*perc_space)\n",
    "n_train_out_space = len(stock.keys())-n_train_space"
   ]
  },
  {
   "cell_type": "code",
   "execution_count": 5,
   "metadata": {},
   "outputs": [],
   "source": [
    "train_space = np.random.choice(list(stock.keys()), size=n_train_space, replace=False).tolist()\n",
    "test_space = list(set(stock.keys()) - set(train_space))\n",
    "samples = stock[\"AAPL\"].shape[0]\n",
    "train_samples = int((samples-WINDOW_SIZE)*perc_time)"
   ]
  },
  {
   "cell_type": "markdown",
   "metadata": {},
   "source": [
    "# Data loader object"
   ]
  },
  {
   "cell_type": "code",
   "execution_count": 6,
   "metadata": {},
   "outputs": [
    {
     "name": "stdout",
     "output_type": "stream",
     "text": [
      "Companies:  ['BK', 'DHR', 'JPM', 'PM', 'GILD', 'LLY', 'BMY', 'BLK', 'LMT', 'SO', 'CAT', 'GD', 'MRK', 'NVDA', 'MS', 'WFC', 'COST', 'ALL', 'PEP', 'EMR', 'MA', 'MSFT', 'DOW', 'MET', 'USB', 'PG', 'DIS', 'CSCO', 'MCD', 'AXP', 'CHTR', 'NEE', 'AIG', 'ADBE', 'SBUX', 'CMCSA', 'ABBV', 'XOM', 'ABT', 'V', 'WMT', 'PFE', 'PYPL', 'BAC', 'HON', 'TMO', 'AMGN', 'FB', 'KMI', 'TXN', 'HD', 'JNJ', 'OXY', 'AAPL', 'CL', 'MMM', 'VZ', 'MDLZ', 'UNP', 'GOOG', 'TGT', 'NKE', 'T', 'F', 'COF', 'UNH', 'GM', 'CRM', 'DUK', 'MDT', 'LOW', 'KO', 'NFLX']\n"
     ]
    }
   ],
   "source": [
    "train_ds, val_ds = get_dataset(stock, train_space, train_samples=train_samples, window_size=WINDOW_SIZE)"
   ]
  },
  {
   "cell_type": "code",
   "execution_count": 7,
   "metadata": {},
   "outputs": [
    {
     "name": "stdout",
     "output_type": "stream",
     "text": [
      "Companies:  ['CVS', 'GE', 'CVX', 'FDX', 'WBA', 'KHC', 'SLB', 'BA', 'AMZN', 'COP', 'IBM', 'UPS', 'QCOM', 'ACN', 'ORCL', 'SPG', 'INTC', 'AMT', 'BIIB']\n"
     ]
    }
   ],
   "source": [
    "test_ds = get_dataset(stock, test_space, train_samples=None, window_size=WINDOW_SIZE)"
   ]
  },
  {
   "cell_type": "code",
   "execution_count": 8,
   "metadata": {},
   "outputs": [],
   "source": [
    "train_ds = train_ds.shuffle(buffer_size=8000)\n",
    "train_ds = train_ds.batch(BATCH_SIZE)\n",
    "train_ds = train_ds.prefetch(16)\n",
    "val_ds = val_ds.batch(BATCH_SIZE)\n",
    "test_ds = test_ds.batch(BATCH_SIZE)"
   ]
  },
  {
   "cell_type": "markdown",
   "metadata": {},
   "source": [
    "# Model"
   ]
  },
  {
   "cell_type": "code",
   "execution_count": 9,
   "metadata": {},
   "outputs": [],
   "source": [
    "def build_model():\n",
    "    inputs = tf.keras.Input(shape=(20,10))\n",
    "    x = tf.keras.layers.BatchNormalization(axis=2)(inputs)\n",
    "    x_0 = tf.keras.layers.GRU(64, return_sequences=False)(x)\n",
    "    x_1 = tf.keras.layers.GRU(64, return_sequences=False)(x)\n",
    "    x = tf.keras.layers.Concatenate()([x_0, x_1])\n",
    "    x = tf.keras.layers.BatchNormalization()(x)\n",
    "    sigmoids = tf.keras.layers.Dense(3, activation=\"sigmoid\")(x)\n",
    "    outputs = tf.keras.backend.expand_dims(sigmoids, axis=1)\n",
    "    model = tf.keras.Model(inputs=inputs, outputs=outputs)\n",
    "    return model"
   ]
  },
  {
   "cell_type": "code",
   "execution_count": 10,
   "metadata": {},
   "outputs": [
    {
     "name": "stdout",
     "output_type": "stream",
     "text": [
      "Model: \"model\"\n",
      "__________________________________________________________________________________________________\n",
      "Layer (type)                    Output Shape         Param #     Connected to                     \n",
      "==================================================================================================\n",
      "input_1 (InputLayer)            [(None, 20, 10)]     0                                            \n",
      "__________________________________________________________________________________________________\n",
      "batch_normalization (BatchNorma (None, 20, 10)       40          input_1[0][0]                    \n",
      "__________________________________________________________________________________________________\n",
      "gru (GRU)                       (None, 64)           14592       batch_normalization[0][0]        \n",
      "__________________________________________________________________________________________________\n",
      "gru_1 (GRU)                     (None, 64)           14592       batch_normalization[0][0]        \n",
      "__________________________________________________________________________________________________\n",
      "concatenate (Concatenate)       (None, 128)          0           gru[0][0]                        \n",
      "                                                                 gru_1[0][0]                      \n",
      "__________________________________________________________________________________________________\n",
      "batch_normalization_1 (BatchNor (None, 128)          512         concatenate[0][0]                \n",
      "__________________________________________________________________________________________________\n",
      "dense (Dense)                   (None, 3)            387         batch_normalization_1[0][0]      \n",
      "__________________________________________________________________________________________________\n",
      "tf_op_layer_ExpandDims (TensorF [(None, 1, 3)]       0           dense[0][0]                      \n",
      "==================================================================================================\n",
      "Total params: 30,123\n",
      "Trainable params: 29,847\n",
      "Non-trainable params: 276\n",
      "__________________________________________________________________________________________________\n"
     ]
    }
   ],
   "source": [
    "model = build_model()\n",
    "model.summary()"
   ]
  },
  {
   "cell_type": "code",
   "execution_count": 11,
   "metadata": {},
   "outputs": [],
   "source": [
    "model.compile(loss=\"binary_crossentropy\",\n",
    "    optimizer=\"adam\",\n",
    "    metrics=[\"accuracy\", \"AUC\", tf.keras.metrics.AUC(curve=\"PR\", name=\"PR_AUC\")])\n",
    "es_callback = tf.keras.callbacks.EarlyStopping(monitor='val_loss',#val_loss\n",
    "                                               patience=2,\n",
    "                                               mode='min',\n",
    "                                               restore_best_weights=True)"
   ]
  },
  {
   "cell_type": "code",
   "execution_count": 12,
   "metadata": {},
   "outputs": [
    {
     "name": "stdout",
     "output_type": "stream",
     "text": [
      "Epoch 1/20\n",
      "WARNING:tensorflow:From /Users/camilovelasquez/anaconda3/envs/insider/lib/python3.7/site-packages/tensorflow/python/ops/resource_variable_ops.py:1817: calling BaseResourceVariable.__init__ (from tensorflow.python.ops.resource_variable_ops) with constraint is deprecated and will be removed in a future version.\n",
      "Instructions for updating:\n",
      "If using Keras pass *_constraint arguments to layers.\n",
      "1689/1689 [==============================] - 24s 14ms/step - loss: 0.1568 - accuracy: 0.1054 - auc: 0.6961 - PR_AUC: 0.0764 - val_loss: 0.1134 - val_accuracy: 0.0610 - val_auc: 0.8163 - val_PR_AUC: 0.2772\n",
      "Epoch 2/20\n",
      "1689/1689 [==============================] - 25s 15ms/step - loss: 0.1209 - accuracy: 0.0728 - auc: 0.7534 - PR_AUC: 0.1636 - val_loss: 0.1107 - val_accuracy: 0.0442 - val_auc: 0.8219 - val_PR_AUC: 0.2806\n",
      "Epoch 3/20\n",
      "1689/1689 [==============================] - 33s 20ms/step - loss: 0.1194 - accuracy: 0.0793 - auc: 0.7683 - PR_AUC: 0.1645 - val_loss: 0.1173 - val_accuracy: 0.0456 - val_auc: 0.7783 - val_PR_AUC: 0.2440\n",
      "Epoch 4/20\n",
      "1689/1689 [==============================] - 30s 18ms/step - loss: 0.1183 - accuracy: 0.0777 - auc: 0.7789 - PR_AUC: 0.1724 - val_loss: 0.1133 - val_accuracy: 0.0476 - val_auc: 0.7998 - val_PR_AUC: 0.2748\n"
     ]
    }
   ],
   "source": [
    "history = model.fit(train_ds, \n",
    "                    validation_data=val_ds,\n",
    "                    epochs=20, \n",
    "                    callbacks = [es_callback])"
   ]
  },
  {
   "cell_type": "code",
   "execution_count": 13,
   "metadata": {},
   "outputs": [
    {
     "name": "stdout",
     "output_type": "stream",
     "text": [
      "554/554 [==============================] - 2s 4ms/step - loss: 0.1020 - accuracy: 0.0341 - auc: 0.7053 - PR_AUC: 0.0831\n"
     ]
    },
    {
     "data": {
      "text/plain": [
       "[0.10203111916780472,\n",
       " 0.034108877182006836,\n",
       " 0.7053048014640808,\n",
       " 0.08308228850364685]"
      ]
     },
     "execution_count": 13,
     "metadata": {},
     "output_type": "execute_result"
    }
   ],
   "source": [
    "model.evaluate(test_ds)"
   ]
  },
  {
   "cell_type": "markdown",
   "metadata": {},
   "source": [
    "# Comparing predictions and looking if it is learning anything\n",
    "dataframe start from the 20, example df[20:] are all the samples in test, and each company has ~232 records, so to iterate would be accooording to 232 and addding 20 to the origiinal df"
   ]
  },
  {
   "cell_type": "code",
   "execution_count": 14,
   "metadata": {},
   "outputs": [],
   "source": [
    "y_test = []\n",
    "for sample in test_ds:\n",
    "    y_test.append(sample[1].numpy())\n",
    "y_test = np.squeeze(np.concatenate(y_test))"
   ]
  },
  {
   "cell_type": "code",
   "execution_count": 15,
   "metadata": {},
   "outputs": [
    {
     "name": "stdout",
     "output_type": "stream",
     "text": [
      "Company:  CVS\n",
      "Company:  GE\n",
      "Company:  CVX\n",
      "Company:  FDX\n",
      "Company:  WBA\n",
      "Company:  KHC\n",
      "Company:  SLB\n",
      "Company:  BA\n",
      "Company:  AMZN\n",
      "Company:  COP\n",
      "Company:  IBM\n",
      "Company:  UPS\n",
      "Company:  QCOM\n",
      "Company:  ACN\n",
      "Company:  ORCL\n",
      "Company:  SPG\n",
      "Company:  INTC\n",
      "Company:  AMT\n",
      "Company:  BIIB\n"
     ]
    }
   ],
   "source": [
    "out = model.predict(test_ds)\n",
    "out = np.squeeze(out)\n",
    "aux_stock = {}\n",
    "cont = 0\n",
    "for idx, company in enumerate(test_space):\n",
    "    print(\"Company: \", company)\n",
    "    curr_hist = stock[company]\n",
    "    curr_index = curr_hist.index[WINDOW_SIZE-1:]\n",
    "    curr_size = len(curr_index)\n",
    "    pred_df = pd.DataFrame(out[cont:cont+curr_size],\n",
    "                           index=curr_hist.index[WINDOW_SIZE-1:],\n",
    "                           columns=[\"Pred_Buy\", \"Pred_Option\", \"Pred_Sale\"])\n",
    "    aux_stock[company] = stock[company].merge(pred_df, how=\"left\", \n",
    "                                              left_index=True, right_index=True)\n",
    "    cont = cont + curr_size"
   ]
  },
  {
   "cell_type": "code",
   "execution_count": 16,
   "metadata": {},
   "outputs": [],
   "source": [
    "df = pd.DataFrame(np.concatenate([out, y_test], axis=1), \n",
    "             columns=[\"pred_Buy\", \"pred_Option\", \"pred_Sale\", \"Buy\", \"Option\", \"Sale\"])"
   ]
  },
  {
   "cell_type": "code",
   "execution_count": 17,
   "metadata": {},
   "outputs": [],
   "source": []
  },
  {
   "cell_type": "code",
   "execution_count": 18,
   "metadata": {},
   "outputs": [],
   "source": [
    "means = df.mean()"
   ]
  },
  {
   "cell_type": "markdown",
   "metadata": {},
   "source": [
    "# Metrics"
   ]
  },
  {
   "cell_type": "code",
   "execution_count": 20,
   "metadata": {},
   "outputs": [
    {
     "name": "stdout",
     "output_type": "stream",
     "text": [
      "Average Precision:  0.057022820331023044\n",
      "Strawman Crossentropy 0.05152081841528123\n",
      "Binary Crossentropy 0.05192341070003428\n"
     ]
    },
    {
     "data": {
      "image/png": "[encoded data removed]",
      "text/plain": [
       "<Figure size 432x288 with 1 Axes>"
      ]
     },
     "metadata": {
      "needs_background": "light"
     },
     "output_type": "display_data"
    },
    {
     "data": {
      "image/png": "[encoded data removed]",
      "text/plain": [
       "<Figure size 432x288 with 1 Axes>"
      ]
     },
     "metadata": {
      "needs_background": "light"
     },
     "output_type": "display_data"
    }
   ],
   "source": [
    "pred_col = \"pred_Buy\"\n",
    "col = \"Buy\"\n",
    "hist_multi_plot(df, pred_col, col, bins=np.arange(0,1, 0.01))\n",
    "precision, recall, _ = precision_recall_curve(df[col], df[pred_col])\n",
    "pr_display = PrecisionRecallDisplay(precision=precision, recall=recall).plot()\n",
    "average_precision = average_precision_score(df[col], df[pred_col])\n",
    "print(\"Average Precision: \", average_precision)\n",
    "strawman_ce = log_loss(df[col], np.ones(df[col].shape)*means[col])\n",
    "print(\"Strawman Crossentropy\", strawman_ce)\n",
    "bce = log_loss(df[col], df[pred_col])\n",
    "print(\"Binary Crossentropy\", bce)"
   ]
  },
  {
   "cell_type": "code",
   "execution_count": 21,
   "metadata": {},
   "outputs": [
    {
     "name": "stdout",
     "output_type": "stream",
     "text": [
      "Average Precision:  0.07245711868426902\n",
      "Strawman Crossentropy 0.09756401351977914\n",
      "Binary Crossentropy 0.10097153538769067\n"
     ]
    },
    {
     "data": {
      "image/png": "[encoded data removed]",
      "text/plain": [
       "<Figure size 432x288 with 1 Axes>"
      ]
     },
     "metadata": {
      "needs_background": "light"
     },
     "output_type": "display_data"
    },
    {
     "data": {
      "image/png": "[encoded data removed]",
      "text/plain": [
       "<Figure size 432x288 with 1 Axes>"
      ]
     },
     "metadata": {
      "needs_background": "light"
     },
     "output_type": "display_data"
    }
   ],
   "source": [
    "pred_col = \"pred_Option\"\n",
    "col = \"Option\"\n",
    "hist_multi_plot(df, pred_col, col, bins=np.arange(0,1, 0.01))\n",
    "precision, recall, _ = precision_recall_curve(df[col], df[pred_col])\n",
    "pr_display = PrecisionRecallDisplay(precision=precision, recall=recall).plot()\n",
    "average_precision = average_precision_score(df[col], df[pred_col])\n",
    "print(\"Average Precision: \", average_precision)\n",
    "strawman_ce = log_loss(df[col], np.ones(df[col].shape)*means[col])\n",
    "print(\"Strawman Crossentropy\", strawman_ce)\n",
    "bce = log_loss(df[col], df[pred_col])\n",
    "print(\"Binary Crossentropy\", bce)"
   ]
  },
  {
   "cell_type": "code",
   "execution_count": 22,
   "metadata": {},
   "outputs": [
    {
     "name": "stdout",
     "output_type": "stream",
     "text": [
      "Average Precision:  0.10938126804617525\n",
      "Strawman Crossentropy 0.16137010209226896\n",
      "Binary Crossentropy 0.15319940491028294\n"
     ]
    },
    {
     "data": {
      "image/png": "[encoded data removed]",
      "text/plain": [
       "<Figure size 432x288 with 1 Axes>"
      ]
     },
     "metadata": {
      "needs_background": "light"
     },
     "output_type": "display_data"
    },
    {
     "data": {
      "image/png": "[encoded data removed]",
      "text/plain": [
       "<Figure size 432x288 with 1 Axes>"
      ]
     },
     "metadata": {
      "needs_background": "light"
     },
     "output_type": "display_data"
    }
   ],
   "source": [
    "pred_col = \"pred_Sale\"\n",
    "col = \"Sale\"\n",
    "hist_multi_plot(df, pred_col, col, bins=np.arange(0,1, 0.01))\n",
    "precision, recall, _ = precision_recall_curve(df[col], df[pred_col])\n",
    "pr_display = PrecisionRecallDisplay(precision=precision, recall=recall).plot()\n",
    "average_precision = average_precision_score(df[col], df[pred_col])\n",
    "print(\"Average Precision: \", average_precision)\n",
    "strawman_ce = log_loss(df[col], np.ones(df[col].shape)*means[col])\n",
    "print(\"Strawman Crossentropy\", strawman_ce)\n",
    "bce = log_loss(df[col], df[pred_col])\n",
    "print(\"Binary Crossentropy\", bce)"
   ]
  },
  {
   "cell_type": "code",
   "execution_count": null,
   "metadata": {},
   "outputs": [],
   "source": []
  }
 ],
 "metadata": {
  "kernelspec": {
   "display_name": "Python [conda env:insider]",
   "language": "python",
   "name": "conda-env-insider-py"
  }
 },
 "nbformat": 4,
 "nbformat_minor": 2
}
