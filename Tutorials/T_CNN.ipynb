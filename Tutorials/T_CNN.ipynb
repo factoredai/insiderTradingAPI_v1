{
 "cells": [
  {
   "cell_type": "code",
   "execution_count": 2,
   "metadata": {},
   "outputs": [],
   "source": [
    "import pandas as pd\n",
    "import tensorflow as tf\n",
    "import numpy\n",
    "import pickle as pkl\n",
    "import os\n",
    "os.chdir(os.path.join(os.getcwd(), \"..\"))\n",
    "import finviz as fz\n",
    "import yfinance as yf\n",
    "import calendar\n",
    "import datetime\n",
    "import numpy as np\n",
    "import matplotlib.pyplot as plt\n",
    "from sklearn.metrics import precision_recall_curve, auc, average_precision_score, log_loss\n",
    "#from sklearn.metrics import PrecisionRecallDisplay\n",
    "\n",
    "from src.utils import data_layer, get_dataset, hist_multi_plot\n",
    "\n",
    "%load_ext autoreload\n",
    "%autoreload 2"
   ]
  },
  {
   "cell_type": "code",
   "execution_count": 3,
   "metadata": {},
   "outputs": [],
   "source": [
    "perc_space = 0.8\n",
    "perc_time = 0.8\n",
    "\n",
    "WINDOW_SIZE = 21 # Include window + target\n",
    "BATCH_SIZE = 32\n",
    "\n",
    "data_path = os.path.join(os.getcwd(), \"data\")\n",
    "sp_100_file = os.path.join(data_path, \"sp-100-index-07-02-2020.csv\")"
   ]
  },
  {
   "cell_type": "markdown",
   "metadata": {},
   "source": [
    "# Load and Data formatting"
   ]
  },
  {
   "cell_type": "code",
   "execution_count": 4,
   "metadata": {
    "scrolled": false
   },
   "outputs": [
    {
     "name": "stdout",
     "output_type": "stream",
     "text": [
      "BKNG <class 'IndexError'> list index out of range\n",
      "BRK.B <class 'requests.exceptions.HTTPError'> 404 Client Error: Not Found for url: https://finviz.com/quote.ashx?t=BRK.B\n",
      "C <class 'IndexError'> list index out of range\n",
      "DD <class 'IndexError'> list index out of range\n",
      "EXC <class 'IndexError'> list index out of range\n",
      "GOOGL <class 'IndexError'> list index out of range\n",
      "GS <class 'IndexError'> list index out of range\n",
      "MO <class 'IndexError'> list index out of range\n",
      "RTX <class 'IndexError'> list index out of range\n"
     ]
    }
   ],
   "source": [
    "stock = data_layer(sp_100_file, data_path, perc_space, perc_time)"
   ]
  },
  {
   "cell_type": "code",
   "execution_count": 1,
   "metadata": {},
   "outputs": [
    {
     "ename": "NameError",
     "evalue": "name 'stock' is not defined",
     "output_type": "error",
     "traceback": [
      "\u001b[0;31m---------------------------------------------------------------------------\u001b[0m",
      "\u001b[0;31mNameError\u001b[0m                                 Traceback (most recent call last)",
      "\u001b[0;32m<ipython-input-1-2538aa166009>\u001b[0m in \u001b[0;36m<module>\u001b[0;34m\u001b[0m\n\u001b[0;32m----> 1\u001b[0;31m \u001b[0mstock\u001b[0m\u001b[0;34m[\u001b[0m\u001b[0;34m'AAPL'\u001b[0m\u001b[0;34m]\u001b[0m\u001b[0;34m.\u001b[0m\u001b[0mhead\u001b[0m\u001b[0;34m(\u001b[0m\u001b[0;34m)\u001b[0m\u001b[0;34m\u001b[0m\u001b[0;34m\u001b[0m\u001b[0m\n\u001b[0m",
      "\u001b[0;31mNameError\u001b[0m: name 'stock' is not defined"
     ]
    }
   ],
   "source": [
    "stock['AAPL'].head()"
   ]
  },
  {
   "cell_type": "code",
   "execution_count": 5,
   "metadata": {},
   "outputs": [],
   "source": [
    "n_train_space = int(len(stock.keys())*perc_space)\n",
    "n_train_out_space = len(stock.keys())-n_train_space"
   ]
  },
  {
   "cell_type": "code",
   "execution_count": 6,
   "metadata": {},
   "outputs": [],
   "source": [
    "train_space = np.random.choice(list(stock.keys()), size=n_train_space, replace=False).tolist()\n",
    "test_space = list(set(stock.keys()) - set(train_space))\n",
    "samples = stock[\"AAPL\"].shape[0]\n",
    "train_samples = int((samples-WINDOW_SIZE)*perc_time)"
   ]
  },
  {
   "cell_type": "markdown",
   "metadata": {},
   "source": [
    "# Data loader object"
   ]
  },
  {
   "cell_type": "code",
   "execution_count": 7,
   "metadata": {
    "scrolled": true
   },
   "outputs": [
    {
     "name": "stdout",
     "output_type": "stream",
     "text": [
      "Companies:  ['CVX', 'ALL', 'MDT', 'FB', 'BAC', 'SPG', 'XOM', 'FDX', 'JNJ', 'MDLZ', 'ABT', 'MS', 'IBM', 'COST', 'LMT', 'UNP', 'MRK', 'GM', 'DOW', 'ABBV', 'PG', 'WMT', 'PYPL', 'NKE', 'CMCSA', 'BIIB', 'KO', 'SO', 'PFE', 'HON', 'TMO', 'CVS', 'NEE', 'INTC', 'F', 'VZ', 'UNH', 'USB', 'GILD', 'CRM', 'MSFT', 'COP', 'NFLX', 'WBA', 'AAPL', 'KMI', 'CL', 'ADBE', 'MET', 'AXP', 'AIG', 'BLK', 'TGT', 'NVDA', 'WFC', 'MA', 'HD', 'KHC', 'DIS', 'TXN', 'GE', 'GD', 'OXY', 'DUK', 'MMM', 'CSCO', 'QCOM', 'DHR', 'AMGN', 'JPM', 'LLY', 'LOW', 'ORCL']\n"
     ]
    }
   ],
   "source": [
    "train_ds, val_ds = get_dataset(stock, train_space, train_samples=train_samples, window_size=WINDOW_SIZE)"
   ]
  },
  {
   "cell_type": "code",
   "execution_count": 8,
   "metadata": {},
   "outputs": [
    {
     "name": "stdout",
     "output_type": "stream",
     "text": [
      "Companies:  ['CAT', 'CHTR', 'COF', 'BK', 'GOOG', 'PEP', 'PM', 'ACN', 'AMT', 'V', 'T', 'AMZN', 'UPS', 'BMY', 'SLB', 'BA', 'MCD', 'SBUX', 'EMR']\n"
     ]
    }
   ],
   "source": [
    "test_ds = get_dataset(stock, test_space, train_samples=None, window_size=WINDOW_SIZE)"
   ]
  },
  {
   "cell_type": "code",
   "execution_count": 9,
   "metadata": {},
   "outputs": [],
   "source": [
    "train_ds = train_ds.shuffle(buffer_size=8000)\n",
    "train_ds = train_ds.batch(BATCH_SIZE)\n",
    "train_ds = train_ds.prefetch(16)\n",
    "val_ds = val_ds.batch(BATCH_SIZE)\n",
    "test_ds = test_ds.batch(BATCH_SIZE)"
   ]
  },
  {
   "cell_type": "markdown",
   "metadata": {},
   "source": [
    "# Model"
   ]
  },
  {
   "cell_type": "code",
   "execution_count": 34,
   "metadata": {},
   "outputs": [],
   "source": [
    "class Encoder(tf.keras.Model):\n",
    "    \n",
    "        def __init__(self, conv1_params, conv2_params):\n",
    "            \"\"\"Initialization of the two convoutional layers that compose the model.\n",
    "            It receives two dicts with the parameters of the 1D convolution layers.\n",
    "            To be consistent with the TCNN implementation, the padding of the\n",
    "            convolutions must be 'causal' and the dilation_rate argument\n",
    "            must be provided for each layer.\n",
    "            Parameters\n",
    "            ----------\n",
    "            conv1_params : dict\n",
    "                The parameters for the first convolutional layer of the residual block of the TCNN\n",
    "            conv2_params : dict\n",
    "                The parameters for the second convolutional layer of the residual block of the TCNN\n",
    "            \"\"\"\n",
    "            super(Encoder, self).__init__()\n",
    "            self.conv1 = tf.keras.layers.Conv1D(**conv1_params)\n",
    "            self.bn1 = tf.keras.layers.BatchNormalization()\n",
    "            self.conv2 = tf.keras.layers.Conv1D(**conv2_params)\n",
    "            self.bn2 = tf.keras.layers.BatchNormalization()\n",
    "            self.relu  = tf.keras.layers.ReLU() \n",
    "            self.relu_1 = tf.keras.layers.ReLU()\n",
    "    \n",
    "        def call(self, x):\n",
    "            aux_int = self.conv1(x)\n",
    "            aux_int = self.bn1(aux_int)\n",
    "            res_1 = self.relu_1(aux_int)\n",
    "            aux_int = self.conv2(res_1)\n",
    "            out_2 = self.bn2(aux_int)\n",
    "            y = tf.add(out_2 , x)\n",
    "            y = self.relu(y)\n",
    "            return y"
   ]
  },
  {
   "cell_type": "code",
   "execution_count": 35,
   "metadata": {},
   "outputs": [],
   "source": [
    "class Decoder(tf.keras.Model):\n",
    "    \n",
    "        def __init__(self, units_1, units_2):\n",
    "            \"\"\"Initialization of the two convoutional layers that compose the model.\n",
    "            It receives two dicts with the parameters of the 1D convolution layers.\n",
    "            To be consistent with the TCNN implementation, the padding of the\n",
    "            convolutions must be 'causal' and the dilation_rate argument\n",
    "            must be provided for each layer.\n",
    "            Parameters\n",
    "            ----------\n",
    "            conv1_params : dict\n",
    "                The parameters for the first convolutional layer of the residual block of the TCNN\n",
    "            conv2_params : dict\n",
    "                The parameters for the second convolutional layer of the residual block of the TCNN\n",
    "            \"\"\"\n",
    "            super(Decoder, self).__init__()\n",
    "            self.dense1 = tf.keras.layers.Dense(units_1)\n",
    "            self.bn1 = tf.keras.layers.BatchNormalization()\n",
    "            self.relu = tf.keras.layers.ReLU()\n",
    "            self.dense2 = tf.keras.layers.Dense(units_2)\n",
    "            self.bn2 = tf.keras.layers.BatchNormalization()\n",
    "    \n",
    "        def call(self, x):\n",
    "            aux_int = self.dense1(x)\n",
    "            aux_int = self.bn1(aux_int)\n",
    "            res_1 = self.relu(aux_int)\n",
    "            aux_int = self.dense2(res_1)\n",
    "            y = self.bn2(aux_int)\n",
    "            return y"
   ]
  },
  {
   "cell_type": "code",
   "execution_count": 39,
   "metadata": {},
   "outputs": [],
   "source": [
    "class TCNN(tf.keras.Model):\n",
    "    \"\"\"This is the implementation of the TCNN model according to the paper Probabilistic Forecasting\n",
    "    with Temporal Convolutional Neural Network [https://arxiv.org/pdf/1906.04397.pdf]. There are two\n",
    "    minor changes here in the decoder; First, we apply a neural network to the encoder vector and\n",
    "    compute the prediction for the future \"w\" days (Decoder 1) and then we compute the deviation\n",
    "    for each day using the exogenous variables (Decoder 2). It is important to highlight that de\n",
    "    Decoder 1 network has different parameters for each day prediction but the Decoder 2 share\n",
    "    parameters between days.\n",
    "    \"\"\"\n",
    "    def __init__(self, encoder_params, decoder1_dims):\n",
    "        \"\"\"Model initialization\n",
    "        Parameters\n",
    "        ----------\n",
    "        encoder_params : List[Dict]\n",
    "            A list formed by convolution_parameters dictionaries to instantiate\n",
    "            the encoder of the model. Each dict contains the information of a Conv1d layer.\n",
    "        decoder1_dims : List[Int]\n",
    "            A list with the dims of the decoder 1 Dense layers.\n",
    "        decoder2_dims : List[Int]\n",
    "            A list with the dims of the decoder 2 Dense layers.\n",
    "        n_channels_enc : int\n",
    "            The number of channels in the encoder.\n",
    "        \"\"\"\n",
    "        super(TCNN, self).__init__()\n",
    "        self.variable_range = 2\n",
    "        #encoder\n",
    "        self.encoders = []\n",
    "        for i in range(0,len(encoder_params),2):\n",
    "            encoder = Encoder(encoder_params[i],encoder_params[i + 1])\n",
    "            self.encoders.append(encoder)\n",
    "        #emebeddings\n",
    "        self.embedding_buy = tf.keras.layers.Embedding(input_dim=self.variable_range, output_dim=1)\n",
    "        self.embedding_sell = tf.keras.layers.Embedding(input_dim=self.variable_range, output_dim=1)\n",
    "        self.embedding_option = tf.keras.layers.Embedding(input_dim=self.variable_range, output_dim=1)\n",
    "        \n",
    "        self.flatten = tf.keras.layers.Flatten()\n",
    "        #Decoder\n",
    "        self.decoder = Decoder(256,256)\n",
    "        \n",
    "        \n",
    "        self.Decoder1_dense1 = tf.keras.layers.Dense(decoder1_dims[0], activation='relu')  # input 256\n",
    "        self.Decoder1_dense2 = tf.keras.layers.Dense(decoder1_dims[1])  # input timesteps_target\n",
    "        self.sigmoids = tf.keras.layers.Dense(3, activation=\"sigmoid\")\n",
    "        \n",
    "    def call(self, input_tensor):\n",
    "        \"\"\"A Pass of the input tensor through the model\n",
    "        Parameters\n",
    "        ----------\n",
    "        input_tensor : Tuple[tf.Tensor]\n",
    "            A tuple with all the information required to compute a pass through the model.\n",
    "            input_tensor[0]: The input time series tf.Tensor (Batch_size, input_seq_length,\n",
    "                                                              n_channels_encoder - n_covariates)\n",
    "            input_tensor[1]: The input time series days tf.Tensor (Batch_size, input_seq_length)\n",
    "            input_tensor[2]: The input time series hours tf.Tensor (Batch_size, input_seq_length,\n",
    "                                                              1)\n",
    "            input_tensor[3]: The input time series month tf.Tensor (Batch_size, input_seq_length,\n",
    "                                                              1)\n",
    "            input_tensor[4]: The output time series days tf.Tensor (Batch_size, output_seq_length,\n",
    "                                                              1)\n",
    "            input_tensor[5]: The output time series hours tf.Tensor (Batch_size, output_seq_length,\n",
    "                                                              1)\n",
    "            input_tensor[6]: The output time series month tf.Tensor (Batch_size, output_seq_length,\n",
    "                                                              1)\n",
    "        Returns\n",
    "        -------\n",
    "        tf.Tensor (Batch_size, output_seq_length, 1)\n",
    "        \"\"\"\n",
    "        \n",
    "        input_t , today_info = input_tensor\n",
    "        \n",
    "        buy_emb =  self.embedding_buy(input_t[:,:,-3])\n",
    "        option_emb = self.embedding_sell(input_t[:,:,-2])\n",
    "        sell_emb = self.embedding_option(input_t[:,:,-1])\n",
    "        input_with_emb = tf.concat([input_t[:,:,:-3], buy_emb, option_emb, sell_emb], axis= -1)\n",
    "        encoder_tensor = input_with_emb\n",
    "        for encoder in self.encoders:\n",
    "            encoder_tensor = encoder(encoder_tensor)\n",
    "        enc_output = self.flatten(encoder_tensor[:, -1:, :])\n",
    "        dec_output = self.decoder(today_info)\n",
    "        \n",
    "        output = tf.concat([enc_output,dec_output], axis = -1)\n",
    "        \n",
    "        output = self.Decoder1_dense1(output)        \n",
    "        outputs = self.sigmoids (output)\n",
    "        outputs = tf.keras.backend.expand_dims(outputs, axis=1)\n",
    "        return outputs\n",
    "\n",
    "\n"
   ]
  },
  {
   "cell_type": "code",
   "execution_count": 21,
   "metadata": {},
   "outputs": [],
   "source": [
    "dilation_rates=[1,1,2,2,4,4,7,7]\n",
    "kernel_size=7\n",
    "number_features=15"
   ]
  },
  {
   "cell_type": "code",
   "execution_count": 14,
   "metadata": {},
   "outputs": [],
   "source": [
    "enc_convolution_params = []\n",
    "for idx, dilation_rate in enumerate(dilation_rates):\n",
    "    conv_params = dict()\n",
    "    if idx == 0:\n",
    "        conv_params[\"input_shape\"] = (WINDOW_SIZE, 5)\n",
    "    conv_params[\"filters\"] = number_features\n",
    "    conv_params[\"kernel_size\"] = kernel_size\n",
    "    conv_params[\"padding\"] = \"causal\"\n",
    "    conv_params[\"dilation_rate\"] = dilation_rate\n",
    "    enc_convolution_params.append(conv_params)"
   ]
  },
  {
   "cell_type": "code",
   "execution_count": 72,
   "metadata": {},
   "outputs": [],
   "source": [
    "model = TCNN(enc_convolution_params, [256,1])"
   ]
  },
  {
   "cell_type": "code",
   "execution_count": 23,
   "metadata": {},
   "outputs": [],
   "source": [
    "x = next(iter(train_ds))"
   ]
  },
  {
   "cell_type": "code",
   "execution_count": 41,
   "metadata": {
    "scrolled": true
   },
   "outputs": [
    {
     "name": "stdout",
     "output_type": "stream",
     "text": [
      "WARNING:tensorflow:Layer tcnn_6 is casting an input tensor from dtype float64 to the layer's dtype of float32, which is new behavior in TensorFlow 2.  The layer has dtype float32 because it's dtype defaults to floatx.\n",
      "\n",
      "If you intended to run this layer in float32, you can safely ignore this warning. If in doubt, this warning is likely only an issue if you are porting a TensorFlow 1.X model to TensorFlow 2.\n",
      "\n",
      "To change all layers to have dtype float64 by default, call `tf.keras.backend.set_floatx('float64')`. To change just this layer, pass dtype='float64' to the layer constructor. If you are the author of this layer, you can disable autocasting by passing autocast=False to the base Layer constructor.\n",
      "\n"
     ]
    },
    {
     "data": {
      "text/plain": [
       "<tf.Tensor: shape=(32, 1, 3), dtype=float32, numpy=\n",
       "array([[[1., 1., 0.]],\n",
       "\n",
       "       [[1., 1., 0.]],\n",
       "\n",
       "       [[1., 1., 0.]],\n",
       "\n",
       "       [[1., 1., 0.]],\n",
       "\n",
       "       [[0., 1., 0.]],\n",
       "\n",
       "       [[1., 1., 0.]],\n",
       "\n",
       "       [[1., 1., 0.]],\n",
       "\n",
       "       [[0., 1., 0.]],\n",
       "\n",
       "       [[0., 1., 0.]],\n",
       "\n",
       "       [[1., 1., 0.]],\n",
       "\n",
       "       [[0., 1., 0.]],\n",
       "\n",
       "       [[0., 1., 0.]],\n",
       "\n",
       "       [[0., 1., 0.]],\n",
       "\n",
       "       [[1., 1., 0.]],\n",
       "\n",
       "       [[1., 1., 0.]],\n",
       "\n",
       "       [[1., 1., 0.]],\n",
       "\n",
       "       [[0., 1., 0.]],\n",
       "\n",
       "       [[1., 1., 0.]],\n",
       "\n",
       "       [[1., 1., 0.]],\n",
       "\n",
       "       [[1., 1., 0.]],\n",
       "\n",
       "       [[0., 1., 0.]],\n",
       "\n",
       "       [[1., 1., 0.]],\n",
       "\n",
       "       [[0., 1., 0.]],\n",
       "\n",
       "       [[1., 1., 0.]],\n",
       "\n",
       "       [[0., 1., 0.]],\n",
       "\n",
       "       [[1., 1., 0.]],\n",
       "\n",
       "       [[1., 0., 1.]],\n",
       "\n",
       "       [[1., 1., 0.]],\n",
       "\n",
       "       [[0., 1., 0.]],\n",
       "\n",
       "       [[1., 1., 0.]],\n",
       "\n",
       "       [[1., 1., 0.]],\n",
       "\n",
       "       [[0., 1., 0.]]], dtype=float32)>"
      ]
     },
     "execution_count": 41,
     "metadata": {},
     "output_type": "execute_result"
    }
   ],
   "source": [
    "model(x[0])"
   ]
  },
  {
   "cell_type": "code",
   "execution_count": 73,
   "metadata": {},
   "outputs": [],
   "source": [
    "model.compile(loss=\"binary_crossentropy\",\n",
    "    optimizer=\"adam\",\n",
    "    metrics=[\"accuracy\", \"AUC\", tf.keras.metrics.AUC(curve=\"PR\", name=\"PR_AUC\")])\n",
    "es_callback = tf.keras.callbacks.EarlyStopping(monitor='val_loss', #val_loss\n",
    "                                               patience=8,\n",
    "                                               mode='min',\n",
    "                                               restore_best_weights=True)"
   ]
  },
  {
   "cell_type": "code",
   "execution_count": 74,
   "metadata": {
    "scrolled": true
   },
   "outputs": [
    {
     "name": "stdout",
     "output_type": "stream",
     "text": [
      "Epoch 1/100\n",
      "420/420 [==============================] - 13s 31ms/step - loss: 6.3192 - accuracy: 0.5858 - AUC: 0.3995 - PR_AUC: 0.0224 - val_loss: 5.5156 - val_accuracy: 0.6398 - val_AUC: 0.3439 - val_PR_AUC: 0.0196\n",
      "Epoch 2/100\n",
      "420/420 [==============================] - 9s 21ms/step - loss: 5.4440 - accuracy: 0.6433 - AUC: 0.3802 - PR_AUC: 0.0213 - val_loss: 5.5156 - val_accuracy: 0.6398 - val_AUC: 0.3439 - val_PR_AUC: 0.0196\n",
      "Epoch 3/100\n",
      "420/420 [==============================] - 9s 21ms/step - loss: 5.4436 - accuracy: 0.6433 - AUC: 0.3802 - PR_AUC: 0.0213 - val_loss: 5.5156 - val_accuracy: 0.6398 - val_AUC: 0.3439 - val_PR_AUC: 0.0196\n",
      "Epoch 4/100\n",
      "420/420 [==============================] - 8s 20ms/step - loss: 5.4440 - accuracy: 0.6433 - AUC: 0.3802 - PR_AUC: 0.0213 - val_loss: 5.5156 - val_accuracy: 0.6398 - val_AUC: 0.3439 - val_PR_AUC: 0.0196\n",
      "Epoch 5/100\n",
      "420/420 [==============================] - 10s 23ms/step - loss: 5.4441 - accuracy: 0.6433 - AUC: 0.3802 - PR_AUC: 0.0213 - val_loss: 5.5156 - val_accuracy: 0.6398 - val_AUC: 0.3439 - val_PR_AUC: 0.0196\n",
      "Epoch 6/100\n",
      "420/420 [==============================] - 11s 26ms/step - loss: 5.4439 - accuracy: 0.6433 - AUC: 0.3802 - PR_AUC: 0.0213 - val_loss: 5.5156 - val_accuracy: 0.6398 - val_AUC: 0.3439 - val_PR_AUC: 0.0196\n",
      "Epoch 7/100\n",
      "420/420 [==============================] - 12s 28ms/step - loss: 5.4439 - accuracy: 0.6433 - AUC: 0.3802 - PR_AUC: 0.0213 - val_loss: 5.5156 - val_accuracy: 0.6398 - val_AUC: 0.3439 - val_PR_AUC: 0.0196\n",
      "Epoch 8/100\n",
      "420/420 [==============================] - 10s 24ms/step - loss: 5.4441 - accuracy: 0.6433 - AUC: 0.3802 - PR_AUC: 0.0213 - val_loss: 5.5156 - val_accuracy: 0.6398 - val_AUC: 0.3439 - val_PR_AUC: 0.0196\n",
      "Epoch 9/100\n",
      "420/420 [==============================] - 10s 23ms/step - loss: 5.4437 - accuracy: 0.6433 - AUC: 0.3802 - PR_AUC: 0.0213 - val_loss: 5.5156 - val_accuracy: 0.6398 - val_AUC: 0.3439 - val_PR_AUC: 0.0196\n"
     ]
    }
   ],
   "source": [
    "history = model.fit(train_ds, \n",
    "                    validation_data=val_ds,\n",
    "                    epochs=100, \n",
    "                    callbacks = [es_callback])"
   ]
  },
  {
   "cell_type": "code",
   "execution_count": 30,
   "metadata": {},
   "outputs": [
    {
     "name": "stdout",
     "output_type": "stream",
     "text": [
      "    139/Unknown - 1s 5ms/step - loss: 894.6779 - accuracy: 0.9728 - AUC: 0.5281 - PR_AUC: 0.0304"
     ]
    },
    {
     "data": {
      "text/plain": [
       "[894.677875697864, 0.9728185, 0.52809566, 0.030415446]"
      ]
     },
     "execution_count": 30,
     "metadata": {},
     "output_type": "execute_result"
    }
   ],
   "source": [
    "model.evaluate(test_ds)"
   ]
  },
  {
   "cell_type": "markdown",
   "metadata": {},
   "source": [
    "# Comparing predictions and looking if it is learning anything\n",
    "dataframe start from the 20, example df[20:] are all the samples in test, and each company has ~232 records, so to iterate would be accooording to 232 and addding 20 to the origiinal df"
   ]
  },
  {
   "cell_type": "code",
   "execution_count": 75,
   "metadata": {},
   "outputs": [
    {
     "data": {
      "text/plain": [
       "<matplotlib.legend.Legend at 0x14b34f610>"
      ]
     },
     "execution_count": 75,
     "metadata": {},
     "output_type": "execute_result"
    },
    {
     "data": {
      "image/png": "[encoded data removed]",
      "text/plain": [
       "<Figure size 432x288 with 1 Axes>"
      ]
     },
     "metadata": {
      "needs_background": "light"
     },
     "output_type": "display_data"
    }
   ],
   "source": [
    "plt.plot(history.history['loss'],  label='train')\n",
    "plt.plot(history.history['val_loss'], label='validation')\n",
    "plt.legend()"
   ]
  },
  {
   "cell_type": "code",
   "execution_count": 76,
   "metadata": {},
   "outputs": [
    {
     "data": {
      "text/plain": [
       "<matplotlib.legend.Legend at 0x14b406490>"
      ]
     },
     "execution_count": 76,
     "metadata": {},
     "output_type": "execute_result"
    },
    {
     "data": {
      "image/png": "[encoded data removed]",
      "text/plain": [
       "<Figure size 432x288 with 1 Axes>"
      ]
     },
     "metadata": {
      "needs_background": "light"
     },
     "output_type": "display_data"
    }
   ],
   "source": [
    "plt.plot(history.history['PR_AUC'], label='train')\n",
    "plt.plot(history.history['val_PR_AUC'], label='validation')\n",
    "plt.legend()"
   ]
  },
  {
   "cell_type": "code",
   "execution_count": 50,
   "metadata": {},
   "outputs": [],
   "source": [
    "y_test = []\n",
    "for sample in test_ds:\n",
    "    y_test.append(sample[1].numpy())\n",
    "y_test = np.squeeze(np.concatenate(y_test))"
   ]
  },
  {
   "cell_type": "code",
   "execution_count": 51,
   "metadata": {},
   "outputs": [
    {
     "data": {
      "text/plain": [
       "array([[0., 0., 0.],\n",
       "       [0., 0., 0.],\n",
       "       [0., 0., 0.],\n",
       "       ...,\n",
       "       [0., 0., 0.],\n",
       "       [0., 0., 0.],\n",
       "       [0., 0., 0.]])"
      ]
     },
     "execution_count": 51,
     "metadata": {},
     "output_type": "execute_result"
    }
   ],
   "source": [
    "y_test"
   ]
  },
  {
   "cell_type": "code",
   "execution_count": 77,
   "metadata": {
    "scrolled": true
   },
   "outputs": [
    {
     "name": "stdout",
     "output_type": "stream",
     "text": [
      "Company:  CAT\n",
      "Company:  CHTR\n",
      "Company:  COF\n",
      "Company:  BK\n",
      "Company:  GOOG\n",
      "Company:  PEP\n",
      "Company:  PM\n",
      "Company:  ACN\n",
      "Company:  AMT\n",
      "Company:  V\n",
      "Company:  T\n",
      "Company:  AMZN\n",
      "Company:  UPS\n",
      "Company:  BMY\n",
      "Company:  SLB\n",
      "Company:  BA\n",
      "Company:  MCD\n",
      "Company:  SBUX\n",
      "Company:  EMR\n"
     ]
    }
   ],
   "source": [
    "out = model.predict(test_ds)\n",
    "out = np.squeeze(out)\n",
    "aux_stock = {}\n",
    "cont = 0\n",
    "for idx, company in enumerate(test_space):\n",
    "    print(\"Company: \", company)\n",
    "    curr_hist = stock[company]\n",
    "    curr_index = curr_hist.index[WINDOW_SIZE-1:]\n",
    "    curr_size = len(curr_index)\n",
    "    pred_df = pd.DataFrame(out[cont:cont+curr_size],\n",
    "                           index=curr_hist.index[WINDOW_SIZE-1:],\n",
    "                           columns=[\"Pred_Buy\", \"Pred_Option\", \"Pred_Sale\"])\n",
    "    aux_stock[company] = stock[company].merge(pred_df, how=\"left\", \n",
    "                                              left_index=True, right_index=True)\n",
    "    cont = cont + curr_size"
   ]
  },
  {
   "cell_type": "code",
   "execution_count": 56,
   "metadata": {},
   "outputs": [
    {
     "data": {
      "text/plain": [
       "0.0"
      ]
     },
     "execution_count": 56,
     "metadata": {},
     "output_type": "execute_result"
    }
   ],
   "source": []
  },
  {
   "cell_type": "code",
   "execution_count": 78,
   "metadata": {},
   "outputs": [],
   "source": [
    "df = pd.DataFrame(np.concatenate([out, y_test], axis=1), \n",
    "             columns=[\"pred_Buy\", \"pred_Option\", \"pred_Sale\", \"Buy\", \"Option\", \"Sale\"])"
   ]
  },
  {
   "cell_type": "code",
   "execution_count": 59,
   "metadata": {},
   "outputs": [
    {
     "data": {
      "text/html": [
       "<div>\n",
       "<style scoped>\n",
       "    .dataframe tbody tr th:only-of-type {\n",
       "        vertical-align: middle;\n",
       "    }\n",
       "\n",
       "    .dataframe tbody tr th {\n",
       "        vertical-align: top;\n",
       "    }\n",
       "\n",
       "    .dataframe thead th {\n",
       "        text-align: right;\n",
       "    }\n",
       "</style>\n",
       "<table border=\"1\" class=\"dataframe\">\n",
       "  <thead>\n",
       "    <tr style=\"text-align: right;\">\n",
       "      <th></th>\n",
       "      <th>pred_Buy</th>\n",
       "      <th>pred_Option</th>\n",
       "      <th>pred_Sale</th>\n",
       "      <th>Buy</th>\n",
       "      <th>Option</th>\n",
       "      <th>Sale</th>\n",
       "    </tr>\n",
       "  </thead>\n",
       "  <tbody>\n",
       "    <tr>\n",
       "      <th>0</th>\n",
       "      <td>0.0</td>\n",
       "      <td>0.0</td>\n",
       "      <td>0.0</td>\n",
       "      <td>0.0</td>\n",
       "      <td>0.0</td>\n",
       "      <td>0.0</td>\n",
       "    </tr>\n",
       "    <tr>\n",
       "      <th>1</th>\n",
       "      <td>0.0</td>\n",
       "      <td>0.0</td>\n",
       "      <td>0.0</td>\n",
       "      <td>0.0</td>\n",
       "      <td>0.0</td>\n",
       "      <td>0.0</td>\n",
       "    </tr>\n",
       "    <tr>\n",
       "      <th>2</th>\n",
       "      <td>0.0</td>\n",
       "      <td>0.0</td>\n",
       "      <td>0.0</td>\n",
       "      <td>0.0</td>\n",
       "      <td>0.0</td>\n",
       "      <td>0.0</td>\n",
       "    </tr>\n",
       "    <tr>\n",
       "      <th>3</th>\n",
       "      <td>0.0</td>\n",
       "      <td>0.0</td>\n",
       "      <td>0.0</td>\n",
       "      <td>0.0</td>\n",
       "      <td>0.0</td>\n",
       "      <td>0.0</td>\n",
       "    </tr>\n",
       "    <tr>\n",
       "      <th>4</th>\n",
       "      <td>0.0</td>\n",
       "      <td>0.0</td>\n",
       "      <td>0.0</td>\n",
       "      <td>0.0</td>\n",
       "      <td>0.0</td>\n",
       "      <td>0.0</td>\n",
       "    </tr>\n",
       "  </tbody>\n",
       "</table>\n",
       "</div>"
      ],
      "text/plain": [
       "   pred_Buy  pred_Option  pred_Sale  Buy  Option  Sale\n",
       "0       0.0          0.0        0.0  0.0     0.0   0.0\n",
       "1       0.0          0.0        0.0  0.0     0.0   0.0\n",
       "2       0.0          0.0        0.0  0.0     0.0   0.0\n",
       "3       0.0          0.0        0.0  0.0     0.0   0.0\n",
       "4       0.0          0.0        0.0  0.0     0.0   0.0"
      ]
     },
     "execution_count": 59,
     "metadata": {},
     "output_type": "execute_result"
    }
   ],
   "source": [
    "df.head()"
   ]
  },
  {
   "cell_type": "code",
   "execution_count": 38,
   "metadata": {},
   "outputs": [],
   "source": [
    "means = df.mean()"
   ]
  },
  {
   "cell_type": "markdown",
   "metadata": {},
   "source": [
    "# Metrics"
   ]
  },
  {
   "cell_type": "code",
   "execution_count": 79,
   "metadata": {},
   "outputs": [
    {
     "name": "stderr",
     "output_type": "stream",
     "text": [
      "/Users/santiagocortes/opt/anaconda3/envs/tf2/lib/python3.7/site-packages/numpy/lib/histograms.py:898: RuntimeWarning: invalid value encountered in true_divide\n",
      "  return n/db/n.sum(), bin_edges\n"
     ]
    },
    {
     "name": "stdout",
     "output_type": "stream",
     "text": [
      "Average Precision:  0.004310344827586207\n",
      "Binary Crossentropy 34.39069850961528\n"
     ]
    },
    {
     "data": {
      "image/png": "[encoded data removed]",
      "text/plain": [
       "<Figure size 432x288 with 1 Axes>"
      ]
     },
     "metadata": {
      "needs_background": "light"
     },
     "output_type": "display_data"
    }
   ],
   "source": [
    "pred_col = \"pred_Buy\"\n",
    "col = \"Buy\"\n",
    "hist_multi_plot(df, pred_col, col, bins=np.arange(0,1, 0.01))\n",
    "precision, recall, _ = precision_recall_curve(df[col], df[pred_col])\n",
    "#pr_display = PrecisionRecallDisplay(precision=precision, recall=recall).plot()\n",
    "average_precision_buy = average_precision_score(df[col], df[pred_col])\n",
    "print(\"Average Precision: \", average_precision_buy)\n",
    "#strawman_ce = log_loss(df[col], np.ones(df[col].shape)*means[col])\n",
    "#print(\"Strawman Crossentropy\", strawman_ce)\n",
    "bce = log_loss(df[col], df[pred_col])\n",
    "print(\"Binary Crossentropy\", bce)"
   ]
  },
  {
   "cell_type": "code",
   "execution_count": 80,
   "metadata": {},
   "outputs": [
    {
     "name": "stderr",
     "output_type": "stream",
     "text": [
      "/Users/santiagocortes/opt/anaconda3/envs/tf2/lib/python3.7/site-packages/numpy/lib/histograms.py:898: RuntimeWarning: invalid value encountered in true_divide\n",
      "  return n/db/n.sum(), bin_edges\n"
     ]
    },
    {
     "name": "stdout",
     "output_type": "stream",
     "text": [
      "Average Precision:  0.02472776769509982\n",
      "Binary Crossentropy 0.8540668391663494\n"
     ]
    },
    {
     "data": {
      "image/png": "[encoded data removed]",
      "text/plain": [
       "<Figure size 432x288 with 1 Axes>"
      ]
     },
     "metadata": {
      "needs_background": "light"
     },
     "output_type": "display_data"
    }
   ],
   "source": [
    "pred_col = \"pred_Option\"\n",
    "col = \"Option\"\n",
    "hist_multi_plot(df, pred_col, col, bins=np.arange(0,1, 0.01))\n",
    "precision, recall, _ = precision_recall_curve(df[col], df[pred_col])\n",
    "#pr_display = PrecisionRecallDisplay(precision=precision, recall=recall).plot()\n",
    "average_precision_op = average_precision_score(df[col], df[pred_col])\n",
    "print(\"Average Precision: \", average_precision_op)\n",
    "#strawman_ce = log_loss(df[col], np.ones(df[col].shape)*means[col])\n",
    "#print(\"Strawman Crossentropy\", strawman_ce)\n",
    "bce = log_loss(df[col], df[pred_col])\n",
    "print(\"Binary Crossentropy\", bce)"
   ]
  },
  {
   "cell_type": "code",
   "execution_count": 81,
   "metadata": {},
   "outputs": [
    {
     "name": "stderr",
     "output_type": "stream",
     "text": [
      "/Users/santiagocortes/opt/anaconda3/envs/tf2/lib/python3.7/site-packages/numpy/lib/histograms.py:898: RuntimeWarning: invalid value encountered in true_divide\n",
      "  return n/db/n.sum(), bin_edges\n"
     ]
    },
    {
     "name": "stdout",
     "output_type": "stream",
     "text": [
      "Average Precision:  0.052177858439201454\n",
      "Binary Crossentropy 1.8021593853968831\n"
     ]
    },
    {
     "data": {
      "image/png": "[encoded data removed]",
      "text/plain": [
       "<Figure size 432x288 with 1 Axes>"
      ]
     },
     "metadata": {
      "needs_background": "light"
     },
     "output_type": "display_data"
    }
   ],
   "source": [
    "pred_col = \"pred_Sale\"\n",
    "col = \"Sale\"\n",
    "hist_multi_plot(df, pred_col, col, bins=np.arange(0,1, 0.01))\n",
    "precision, recall, _ = precision_recall_curve(df[col], df[pred_col])\n",
    "#pr_display = PrecisionRecallDisplay(precision=precision, recall=recall).plot()\n",
    "average_precision_sale = average_precision_score(df[col], df[pred_col])\n",
    "print(\"Average Precision: \", average_precision_sale)\n",
    "#strawman_ce = log_loss(df[col], np.ones(df[col].shape)*means[col])\n",
    "#print(\"Strawman Crossentropy\", strawman_ce)\n",
    "bce = log_loss(df[col], df[pred_col])\n",
    "print(\"Binary Crossentropy\", bce)"
   ]
  },
  {
   "cell_type": "code",
   "execution_count": 82,
   "metadata": {},
   "outputs": [
    {
     "data": {
      "text/plain": [
       "0.027071990320629156"
      ]
     },
     "execution_count": 82,
     "metadata": {},
     "output_type": "execute_result"
    }
   ],
   "source": [
    "sum([average_precision_sale, average_precision_op,average_precision_buy])/3"
   ]
  },
  {
   "cell_type": "code",
   "execution_count": null,
   "metadata": {},
   "outputs": [],
   "source": []
  }
 ],
 "metadata": {
  "kernelspec": {
   "display_name": "Python [conda env:tf2]",
   "language": "python",
   "name": "conda-env-tf2-py"
  },
  "language_info": {
   "codemirror_mode": {
    "name": "ipython",
    "version": 3
   },
   "file_extension": ".py",
   "mimetype": "text/x-python",
   "name": "python",
   "nbconvert_exporter": "python",
   "pygments_lexer": "ipython3",
   "version": "3.7.4"
  }
 },
 "nbformat": 4,
 "nbformat_minor": 2
}
