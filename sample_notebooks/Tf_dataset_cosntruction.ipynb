{
 "cells": [
  {
   "cell_type": "markdown",
   "metadata": {},
   "source": [
    "# Tensorflow data set tutorial.\n",
    "\n",
    "In this tutorial is shown how the raw data from the api is used for constructing a tf dataset for time series forecasting"
   ]
  },
  {
   "cell_type": "code",
   "execution_count": 2,
   "metadata": {},
   "outputs": [],
   "source": [
    "import pandas as pd\n",
    "import tensorflow as tf\n",
    "import numpy\n",
    "import pickle as pkl\n",
    "import os\n",
    "os.chdir(os.path.join(os.getcwd(), \"..\"))\n",
    "import finviz as fz\n",
    "import yfinance as yf\n",
    "import calendar\n",
    "import datetime\n",
    "import numpy as np\n",
    "import matplotlib.pyplot as plt\n",
    "from sklearn.metrics import precision_recall_curve, auc, average_precision_score, log_loss\n",
    "#from sklearn.metrics import PrecisionRecallDisplay\n",
    "\n",
    "from src.utils import data_layer, get_dataset, hist_multi_plot\n",
    "\n",
    "%load_ext autoreload\n",
    "%autoreload 2"
   ]
  },
  {
   "cell_type": "code",
   "execution_count": 3,
   "metadata": {},
   "outputs": [],
   "source": [
    "perc_space = 0.8\n",
    "perc_time = 0.8\n",
    "\n",
    "WINDOW_SIZE = 21 # Include window + target\n",
    "BATCH_SIZE = 32"
   ]
  },
  {
   "cell_type": "markdown",
   "metadata": {},
   "source": [
    "## Load and Data formatting"
   ]
  },
  {
   "cell_type": "code",
   "execution_count": 7,
   "metadata": {},
   "outputs": [],
   "source": [
    "data = pd.read_csv(\"http://35.164.216.200:8080/raw_data/AAPL\")"
   ]
  },
  {
   "cell_type": "markdown",
   "metadata": {},
   "source": [
    "The following is the raw data returned by the API. For this particular example one year of Apple inc stock"
   ]
  },
  {
   "cell_type": "code",
   "execution_count": 8,
   "metadata": {},
   "outputs": [
    {
     "data": {
      "text/html": [
       "<div>\n",
       "<style scoped>\n",
       "    .dataframe tbody tr th:only-of-type {\n",
       "        vertical-align: middle;\n",
       "    }\n",
       "\n",
       "    .dataframe tbody tr th {\n",
       "        vertical-align: top;\n",
       "    }\n",
       "\n",
       "    .dataframe thead th {\n",
       "        text-align: right;\n",
       "    }\n",
       "</style>\n",
       "<table border=\"1\" class=\"dataframe\">\n",
       "  <thead>\n",
       "    <tr style=\"text-align: right;\">\n",
       "      <th></th>\n",
       "      <th>Date</th>\n",
       "      <th>Open</th>\n",
       "      <th>High</th>\n",
       "      <th>Low</th>\n",
       "      <th>Close</th>\n",
       "      <th>Volume</th>\n",
       "      <th>Dividends</th>\n",
       "      <th>Stock Splits</th>\n",
       "      <th>S_transactionpricepershare</th>\n",
       "      <th>A_transactionshares</th>\n",
       "      <th>...</th>\n",
       "      <th>M_transactionshares</th>\n",
       "      <th>S_transactionshares</th>\n",
       "      <th>A_transactionvalue</th>\n",
       "      <th>G_transactionvalue</th>\n",
       "      <th>M_transactionvalue</th>\n",
       "      <th>S_transactionvalue</th>\n",
       "      <th>Amount_negotiated</th>\n",
       "      <th>Amount_negotiated_MA</th>\n",
       "      <th>Perc_amount_vs_MA</th>\n",
       "      <th>Perc_amount_sp100</th>\n",
       "    </tr>\n",
       "  </thead>\n",
       "  <tbody>\n",
       "    <tr>\n",
       "      <th>0</th>\n",
       "      <td>2019-04-17</td>\n",
       "      <td>196.43</td>\n",
       "      <td>200.21</td>\n",
       "      <td>195.51</td>\n",
       "      <td>199.96</td>\n",
       "      <td>28906800</td>\n",
       "      <td>0.0</td>\n",
       "      <td>0</td>\n",
       "      <td>NaN</td>\n",
       "      <td>NaN</td>\n",
       "      <td>...</td>\n",
       "      <td>NaN</td>\n",
       "      <td>NaN</td>\n",
       "      <td>NaN</td>\n",
       "      <td>NaN</td>\n",
       "      <td>NaN</td>\n",
       "      <td>NaN</td>\n",
       "      <td>5.780204e+09</td>\n",
       "      <td>NaN</td>\n",
       "      <td>NaN</td>\n",
       "      <td>5.192530</td>\n",
       "    </tr>\n",
       "    <tr>\n",
       "      <th>1</th>\n",
       "      <td>2019-04-18</td>\n",
       "      <td>199.95</td>\n",
       "      <td>200.97</td>\n",
       "      <td>199.36</td>\n",
       "      <td>200.68</td>\n",
       "      <td>24195800</td>\n",
       "      <td>0.0</td>\n",
       "      <td>0</td>\n",
       "      <td>NaN</td>\n",
       "      <td>NaN</td>\n",
       "      <td>...</td>\n",
       "      <td>NaN</td>\n",
       "      <td>NaN</td>\n",
       "      <td>NaN</td>\n",
       "      <td>NaN</td>\n",
       "      <td>NaN</td>\n",
       "      <td>NaN</td>\n",
       "      <td>4.855613e+09</td>\n",
       "      <td>NaN</td>\n",
       "      <td>NaN</td>\n",
       "      <td>4.950565</td>\n",
       "    </tr>\n",
       "    <tr>\n",
       "      <th>2</th>\n",
       "      <td>2019-04-22</td>\n",
       "      <td>199.67</td>\n",
       "      <td>201.75</td>\n",
       "      <td>199.19</td>\n",
       "      <td>201.34</td>\n",
       "      <td>19439500</td>\n",
       "      <td>0.0</td>\n",
       "      <td>0</td>\n",
       "      <td>NaN</td>\n",
       "      <td>NaN</td>\n",
       "      <td>...</td>\n",
       "      <td>NaN</td>\n",
       "      <td>NaN</td>\n",
       "      <td>NaN</td>\n",
       "      <td>NaN</td>\n",
       "      <td>NaN</td>\n",
       "      <td>NaN</td>\n",
       "      <td>3.913949e+09</td>\n",
       "      <td>NaN</td>\n",
       "      <td>NaN</td>\n",
       "      <td>4.891080</td>\n",
       "    </tr>\n",
       "    <tr>\n",
       "      <th>3</th>\n",
       "      <td>2019-04-23</td>\n",
       "      <td>201.24</td>\n",
       "      <td>204.51</td>\n",
       "      <td>200.72</td>\n",
       "      <td>204.25</td>\n",
       "      <td>23323000</td>\n",
       "      <td>0.0</td>\n",
       "      <td>0</td>\n",
       "      <td>NaN</td>\n",
       "      <td>NaN</td>\n",
       "      <td>...</td>\n",
       "      <td>NaN</td>\n",
       "      <td>NaN</td>\n",
       "      <td>NaN</td>\n",
       "      <td>NaN</td>\n",
       "      <td>NaN</td>\n",
       "      <td>NaN</td>\n",
       "      <td>4.763723e+09</td>\n",
       "      <td>NaN</td>\n",
       "      <td>NaN</td>\n",
       "      <td>4.600167</td>\n",
       "    </tr>\n",
       "    <tr>\n",
       "      <th>4</th>\n",
       "      <td>2019-04-24</td>\n",
       "      <td>204.13</td>\n",
       "      <td>205.23</td>\n",
       "      <td>203.82</td>\n",
       "      <td>203.93</td>\n",
       "      <td>17540600</td>\n",
       "      <td>0.0</td>\n",
       "      <td>0</td>\n",
       "      <td>NaN</td>\n",
       "      <td>NaN</td>\n",
       "      <td>...</td>\n",
       "      <td>NaN</td>\n",
       "      <td>NaN</td>\n",
       "      <td>NaN</td>\n",
       "      <td>NaN</td>\n",
       "      <td>NaN</td>\n",
       "      <td>NaN</td>\n",
       "      <td>3.577055e+09</td>\n",
       "      <td>NaN</td>\n",
       "      <td>NaN</td>\n",
       "      <td>3.619047</td>\n",
       "    </tr>\n",
       "  </tbody>\n",
       "</table>\n",
       "<p>5 rows × 21 columns</p>\n",
       "</div>"
      ],
      "text/plain": [
       "         Date    Open    High     Low   Close    Volume  Dividends  \\\n",
       "0  2019-04-17  196.43  200.21  195.51  199.96  28906800        0.0   \n",
       "1  2019-04-18  199.95  200.97  199.36  200.68  24195800        0.0   \n",
       "2  2019-04-22  199.67  201.75  199.19  201.34  19439500        0.0   \n",
       "3  2019-04-23  201.24  204.51  200.72  204.25  23323000        0.0   \n",
       "4  2019-04-24  204.13  205.23  203.82  203.93  17540600        0.0   \n",
       "\n",
       "   Stock Splits  S_transactionpricepershare  A_transactionshares  ...  \\\n",
       "0             0                         NaN                  NaN  ...   \n",
       "1             0                         NaN                  NaN  ...   \n",
       "2             0                         NaN                  NaN  ...   \n",
       "3             0                         NaN                  NaN  ...   \n",
       "4             0                         NaN                  NaN  ...   \n",
       "\n",
       "   M_transactionshares  S_transactionshares  A_transactionvalue  \\\n",
       "0                  NaN                  NaN                 NaN   \n",
       "1                  NaN                  NaN                 NaN   \n",
       "2                  NaN                  NaN                 NaN   \n",
       "3                  NaN                  NaN                 NaN   \n",
       "4                  NaN                  NaN                 NaN   \n",
       "\n",
       "   G_transactionvalue  M_transactionvalue  S_transactionvalue  \\\n",
       "0                 NaN                 NaN                 NaN   \n",
       "1                 NaN                 NaN                 NaN   \n",
       "2                 NaN                 NaN                 NaN   \n",
       "3                 NaN                 NaN                 NaN   \n",
       "4                 NaN                 NaN                 NaN   \n",
       "\n",
       "   Amount_negotiated  Amount_negotiated_MA  Perc_amount_vs_MA  \\\n",
       "0       5.780204e+09                   NaN                NaN   \n",
       "1       4.855613e+09                   NaN                NaN   \n",
       "2       3.913949e+09                   NaN                NaN   \n",
       "3       4.763723e+09                   NaN                NaN   \n",
       "4       3.577055e+09                   NaN                NaN   \n",
       "\n",
       "   Perc_amount_sp100  \n",
       "0           5.192530  \n",
       "1           4.950565  \n",
       "2           4.891080  \n",
       "3           4.600167  \n",
       "4           3.619047  \n",
       "\n",
       "[5 rows x 21 columns]"
      ]
     },
     "execution_count": 8,
     "metadata": {},
     "output_type": "execute_result"
    }
   ],
   "source": [
    "data.head()"
   ]
  },
  {
   "cell_type": "markdown",
   "metadata": {},
   "source": [
    "The dates are discarded as they are not features"
   ]
  },
  {
   "cell_type": "code",
   "execution_count": 15,
   "metadata": {},
   "outputs": [],
   "source": [
    "features = data[[ 'Open', 'High', 'Low', 'Close', 'Volume', 'Dividends',\n",
    "       'Stock Splits', 'S_transactionpricepershare', 'A_transactionshares',\n",
    "       'G_transactionshares', 'M_transactionshares', 'S_transactionshares',\n",
    "       'A_transactionvalue', 'G_transactionvalue', 'M_transactionvalue',\n",
    "       'S_transactionvalue', 'Amount_negotiated', 'Amount_negotiated_MA',\n",
    "       'Perc_amount_vs_MA', 'Perc_amount_sp100', 'S_transactionshares']]"
   ]
  },
  {
   "cell_type": "markdown",
   "metadata": {
    "scrolled": true
   },
   "source": [
    "In this example the labels will be binary, 1 if there was an insider sell or 0 otherwise. "
   ]
  },
  {
   "cell_type": "code",
   "execution_count": 16,
   "metadata": {},
   "outputs": [],
   "source": [
    "features['S_transactionshares'] = 1 - features['S_transactionshares'].isna().astype('int64') "
   ]
  },
  {
   "cell_type": "markdown",
   "metadata": {},
   "source": [
    "Now window shifted by on etime step are builded, and the last row per window is discarded. Also the label is extracted"
   ]
  },
  {
   "cell_type": "code",
   "execution_count": 20,
   "metadata": {},
   "outputs": [],
   "source": [
    "dataset = tf.data.Dataset.from_tensor_slices(features.values)\n",
    "dataset = dataset.window(WINDOW_SIZE, shift=1, drop_remainder=True)\n",
    "dataset = dataset.flat_map(lambda window: window.batch(WINDOW_SIZE))\n",
    "dataset = dataset.map(lambda window: (window[:-1], window[-1:, -1:]))"
   ]
  },
  {
   "cell_type": "markdown",
   "metadata": {},
   "source": [
    "Now we are going to split the data set in train and validation:"
   ]
  },
  {
   "cell_type": "code",
   "execution_count": 26,
   "metadata": {},
   "outputs": [],
   "source": [
    "samples = data.shape[0]\n",
    "train_samples = int((samples-WINDOW_SIZE)*perc_time)"
   ]
  },
  {
   "cell_type": "code",
   "execution_count": 27,
   "metadata": {},
   "outputs": [],
   "source": [
    "train_datasets = []\n",
    "valid_datasets = []"
   ]
  },
  {
   "cell_type": "code",
   "execution_count": 28,
   "metadata": {},
   "outputs": [],
   "source": [
    "train_datasets.append(dataset.take(train_samples))\n",
    "valid_datasets.append(dataset.skip(train_samples))"
   ]
  },
  {
   "cell_type": "code",
   "execution_count": 29,
   "metadata": {},
   "outputs": [],
   "source": [
    "train_ds = None\n",
    "val_ds = None\n",
    "for idx, sample in enumerate(train_datasets):\n",
    "    if train_ds is None:\n",
    "        train_ds = sample\n",
    "        val_ds = valid_datasets[idx]\n",
    "    else:\n",
    "        train_ds = train_ds.concatenate(sample)\n",
    "        val_ds = val_ds.concatenate(valid_datasets[idx])\n"
   ]
  },
  {
   "cell_type": "markdown",
   "metadata": {},
   "source": [
    "### And that's it!"
   ]
  }
 ],
 "metadata": {
  "kernelspec": {
   "display_name": "Python [conda env:tf2]",
   "language": "python",
   "name": "conda-env-tf2-py"
  },
  "language_info": {
   "codemirror_mode": {
    "name": "ipython",
    "version": 3
   },
   "file_extension": ".py",
   "mimetype": "text/x-python",
   "name": "python",
   "nbconvert_exporter": "python",
   "pygments_lexer": "ipython3",
   "version": "3.7.4"
  }
 },
 "nbformat": 4,
 "nbformat_minor": 2
}
